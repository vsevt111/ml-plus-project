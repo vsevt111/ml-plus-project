{
 "cells": [
  {
   "cell_type": "markdown",
   "metadata": {},
   "source": [
    "# Uplift Modeling with Python: Estimating the Lift from Marketing Campaigns \n",
    "\n",
    "Uplift modeling is a predictive modeling technique that directly models the incremental impact of a treatment on an individual's behavior. \n",
    "\n",
    "It is also called as \"True Lift Modeling\" or \"Incremental Modeling\"\n",
    "\n",
    "---\n",
    "\n",
    "# SECTION 1: Introduction to Uplift Modeling\n",
    "\n",
    "## 1. __Types of Modeling Approaches__\n",
    "\n",
    "In marketing analytics, the ability to predicting if a given customer is going to respond (click, buy, open email etc) or not is typically done via three types of models:\n",
    "\n",
    "1. Look Alike models\n",
    "2. Response Models\n",
    "3. Uplift models\n",
    "\n",
    "To understand and appreciate Uplift modeling, let's try to decode what the other two does and then understand what problem Uplift models solve.\n",
    "\n",
    "__Look Alike__ models, aka, _Penetration models_ tries to find customer with similar attributes but have not yet performed the event (purchase).\n",
    "\n",
    "In __Response Modeling__, we train ML model to learn which customers would purchase based on various attributes (including demographic and past history) and try to predict if a new customer, with given set of input, will respond.\n",
    "\n",
    "However, both models do not consider the case that, there will be a set of customers who will:\n",
    "\n",
    "(a) Respond anyway irrespective of giving an offer or not. \n",
    "\n",
    "(b) Stop purchasing if we actually make contact. In marketing, we call them 'Sleeping Dogs'.\n",
    "\n",
    "---\n",
    "<br><br><br>\n",
    "\n",
    "## 2. __The Big Problem Uplift modeling solves__\n",
    "\n",
    "\n",
    "The fundamental problem is: If a given customer may _ONLY either receive or not receive an intervention_, they CANNOT do both. \n",
    "\n",
    "So, to address this issue, we want to ideally know the true 'Lift' effect of being exposed to an intervention (marketing campaign like email, phone calls, targeted ads).\n",
    "\n",
    "\n",
    "That is, in a marketing campaign, they can either be in the treatment group or the control group, they cannot be in both. This means that the uplift of an individual customer cannot be measured directly, it can only be estimated based on groups of similar customers. "
   ]
  },
  {
   "cell_type": "markdown",
   "metadata": {},
   "source": [
    "\n",
    "<br><br>\n",
    "---\n",
    "<br><br><br><br><br><br>\n"
   ]
  },
  {
   "cell_type": "markdown",
   "metadata": {},
   "source": [
    "## 3. __Types of Customers__\n",
    "\n",
    "<img src=\"types of customers.png\" alt=\"Drawing\" style=\"width: 400px;\"/>\n",
    "\n",
    "* __Sure things__ (or always-takers) are customers who were always going to buy the product, regardless of whether or not they received a marketing intervention (zero uplift).\n",
    "\n",
    "* __Persuadables__ (or compliers) are customers who became more likely to buy the product because they received a marketing intervention (positive uplift).\n",
    "\n",
    "* __Sleeping dogs__ (or defiers) are customers who became less likely to buy the product because they received a marketing intervention (negative uplift).\n",
    "\n",
    "* __Lost causes__ (or never-takers) are customers who were never going to buy the product, regardless of whether or not they recieved a marketing intervention (zero uplift).\n",
    "\n",
    "\n",
    "---\n",
    "<br><br><br> "
   ]
  },
  {
   "cell_type": "markdown",
   "metadata": {},
   "source": [
    "## 4. __What exactly is the uplift?__\n",
    "\n",
    "The uplift is the __'probability of purchasing if they receive the offer (A)' minus the 'probability of purchasing if they DO NOT receive the offer (B)'.__\n",
    "\n",
    "$$Uplift = P(Purchase | Offer) - P(Purchase | No \\ Offer)$$\n",
    "\n",
    "But, Why should we subtract 'the probability if they DO NOT receive an offer?'\n",
    "\n",
    "Because, sometimes, B can be greater than A (sleeping dogs), in which case, it is best to leave them alone. Alternately, both A and B may be equal of very low, in which case again, better not target them.\n",
    "\n",
    "This difference in probabilities is important, because the goal of uplift modeling in such a campaign is to avoid sending offers to customers who would have purchased it anyway.\n",
    "\n",
    "\n",
    "\n",
    "__Example Case:__\n",
    "\n",
    "Consider a retention campaign where customers are selected to be contacted by a retention team to persuade them to continue their subscription. \n",
    " \n",
    "The goal is to only contact customers who can be persuaded to stay. We want to avoid contacting customers who always intended to stay or leave, regardless of being contacted. \n",
    " \n",
    "_More importantly, we want to avoid contacting customers who may actually be prompted to leave because we have contacted them_ (e.g. it could prompt them to shop around for a better deal when they otherwise might not have).\n",
    "\n",
    "Specifically, uplift is the conversion rate of customers in the treatment group minus the conversion rate of customers in the control group.\n",
    "\n",
    "#### There are multiple methods to compute the 'Uplift', which is what we are going to cover in detail in this course.\n",
    "\n",
    "<br><br>\n",
    "---\n",
    "<br><br><br><br>"
   ]
  },
  {
   "cell_type": "markdown",
   "metadata": {},
   "source": [
    "# SECTION 2: Uplift Modeling Workflow for Single Treatment\n",
    "\n",
    "## 5. Import data\n",
    "\n",
    "We will use the Hillstorm dataset."
   ]
  },
  {
   "cell_type": "code",
   "execution_count": 1,
   "metadata": {},
   "outputs": [],
   "source": [
    "import pandas as pd\n",
    "import numpy as np"
   ]
  },
  {
   "cell_type": "code",
   "execution_count": 2,
   "metadata": {},
   "outputs": [
    {
     "data": {
      "text/html": [
       "<div>\n",
       "<style scoped>\n",
       "    .dataframe tbody tr th:only-of-type {\n",
       "        vertical-align: middle;\n",
       "    }\n",
       "\n",
       "    .dataframe tbody tr th {\n",
       "        vertical-align: top;\n",
       "    }\n",
       "\n",
       "    .dataframe thead th {\n",
       "        text-align: right;\n",
       "    }\n",
       "</style>\n",
       "<table border=\"1\" class=\"dataframe\">\n",
       "  <thead>\n",
       "    <tr style=\"text-align: right;\">\n",
       "      <th></th>\n",
       "      <th>recency</th>\n",
       "      <th>history_segment</th>\n",
       "      <th>history</th>\n",
       "      <th>mens</th>\n",
       "      <th>womens</th>\n",
       "      <th>zip_code</th>\n",
       "      <th>newbie</th>\n",
       "      <th>channel</th>\n",
       "      <th>treatment_type</th>\n",
       "      <th>target</th>\n",
       "    </tr>\n",
       "  </thead>\n",
       "  <tbody>\n",
       "    <tr>\n",
       "      <th>0</th>\n",
       "      <td>10</td>\n",
       "      <td>2) $100 - $200</td>\n",
       "      <td>142.44</td>\n",
       "      <td>1</td>\n",
       "      <td>0</td>\n",
       "      <td>Surburban</td>\n",
       "      <td>0</td>\n",
       "      <td>Phone</td>\n",
       "      <td>Womens E-Mail</td>\n",
       "      <td>0</td>\n",
       "    </tr>\n",
       "    <tr>\n",
       "      <th>1</th>\n",
       "      <td>6</td>\n",
       "      <td>3) $200 - $350</td>\n",
       "      <td>329.08</td>\n",
       "      <td>1</td>\n",
       "      <td>1</td>\n",
       "      <td>Rural</td>\n",
       "      <td>1</td>\n",
       "      <td>Web</td>\n",
       "      <td>No E-Mail</td>\n",
       "      <td>0</td>\n",
       "    </tr>\n",
       "    <tr>\n",
       "      <th>2</th>\n",
       "      <td>7</td>\n",
       "      <td>2) $100 - $200</td>\n",
       "      <td>180.65</td>\n",
       "      <td>0</td>\n",
       "      <td>1</td>\n",
       "      <td>Surburban</td>\n",
       "      <td>1</td>\n",
       "      <td>Web</td>\n",
       "      <td>Womens E-Mail</td>\n",
       "      <td>0</td>\n",
       "    </tr>\n",
       "    <tr>\n",
       "      <th>3</th>\n",
       "      <td>9</td>\n",
       "      <td>5) $500 - $750</td>\n",
       "      <td>675.83</td>\n",
       "      <td>1</td>\n",
       "      <td>0</td>\n",
       "      <td>Rural</td>\n",
       "      <td>1</td>\n",
       "      <td>Web</td>\n",
       "      <td>Mens E-Mail</td>\n",
       "      <td>0</td>\n",
       "    </tr>\n",
       "    <tr>\n",
       "      <th>4</th>\n",
       "      <td>2</td>\n",
       "      <td>1) $0 - $100</td>\n",
       "      <td>45.34</td>\n",
       "      <td>1</td>\n",
       "      <td>0</td>\n",
       "      <td>Urban</td>\n",
       "      <td>0</td>\n",
       "      <td>Web</td>\n",
       "      <td>Womens E-Mail</td>\n",
       "      <td>0</td>\n",
       "    </tr>\n",
       "  </tbody>\n",
       "</table>\n",
       "</div>"
      ],
      "text/plain": [
       "   recency history_segment  history  mens  womens   zip_code  newbie channel  \\\n",
       "0       10  2) $100 - $200   142.44     1       0  Surburban       0   Phone   \n",
       "1        6  3) $200 - $350   329.08     1       1      Rural       1     Web   \n",
       "2        7  2) $100 - $200   180.65     0       1  Surburban       1     Web   \n",
       "3        9  5) $500 - $750   675.83     1       0      Rural       1     Web   \n",
       "4        2    1) $0 - $100    45.34     1       0      Urban       0     Web   \n",
       "\n",
       "  treatment_type  target  \n",
       "0  Womens E-Mail       0  \n",
       "1      No E-Mail       0  \n",
       "2  Womens E-Mail       0  \n",
       "3    Mens E-Mail       0  \n",
       "4  Womens E-Mail       0  "
      ]
     },
     "execution_count": 2,
     "metadata": {},
     "output_type": "execute_result"
    }
   ],
   "source": [
    "# pip install scikit-uplift\n",
    "from sklift.datasets import fetch_hillstrom\n",
    "\n",
    "dataset = fetch_hillstrom(target_col='visit')\n",
    "data, target, treatment = dataset.data, dataset.target, dataset.treatment\n",
    "data['treatment_type'] = treatment\n",
    "data['target'] = target\n",
    "data.head()"
   ]
  },
  {
   "cell_type": "code",
   "execution_count": 3,
   "metadata": {},
   "outputs": [
    {
     "name": "stdout",
     "output_type": "stream",
     "text": [
      "(64000, 10)\n"
     ]
    }
   ],
   "source": [
    "# shape\n",
    "print(data.shape)"
   ]
  },
  {
   "cell_type": "code",
   "execution_count": 4,
   "metadata": {},
   "outputs": [
    {
     "name": "stdout",
     "output_type": "stream",
     "text": [
      "0    54606\n",
      "1     9394\n",
      "Name: target, dtype: int64 \n",
      "\n",
      "Womens E-Mail    21387\n",
      "Mens E-Mail      21307\n",
      "No E-Mail        21306\n",
      "Name: treatment_type, dtype: int64 \n",
      "\n"
     ]
    }
   ],
   "source": [
    "# Frequency Count\n",
    "print(data['target'].value_counts(), \"\\n\")\n",
    "print(data['treatment_type'].value_counts(), \"\\n\")"
   ]
  },
  {
   "cell_type": "markdown",
   "metadata": {},
   "source": [
    "__Describe__"
   ]
  },
  {
   "cell_type": "code",
   "execution_count": 5,
   "metadata": {},
   "outputs": [
    {
     "data": {
      "text/html": [
       "<div>\n",
       "<style scoped>\n",
       "    .dataframe tbody tr th:only-of-type {\n",
       "        vertical-align: middle;\n",
       "    }\n",
       "\n",
       "    .dataframe tbody tr th {\n",
       "        vertical-align: top;\n",
       "    }\n",
       "\n",
       "    .dataframe thead th {\n",
       "        text-align: right;\n",
       "    }\n",
       "</style>\n",
       "<table border=\"1\" class=\"dataframe\">\n",
       "  <thead>\n",
       "    <tr style=\"text-align: right;\">\n",
       "      <th></th>\n",
       "      <th>history_segment</th>\n",
       "      <th>zip_code</th>\n",
       "      <th>channel</th>\n",
       "      <th>treatment_type</th>\n",
       "    </tr>\n",
       "  </thead>\n",
       "  <tbody>\n",
       "    <tr>\n",
       "      <th>count</th>\n",
       "      <td>64000</td>\n",
       "      <td>64000</td>\n",
       "      <td>64000</td>\n",
       "      <td>64000</td>\n",
       "    </tr>\n",
       "    <tr>\n",
       "      <th>unique</th>\n",
       "      <td>7</td>\n",
       "      <td>3</td>\n",
       "      <td>3</td>\n",
       "      <td>3</td>\n",
       "    </tr>\n",
       "    <tr>\n",
       "      <th>top</th>\n",
       "      <td>1) $0 - $100</td>\n",
       "      <td>Surburban</td>\n",
       "      <td>Web</td>\n",
       "      <td>Womens E-Mail</td>\n",
       "    </tr>\n",
       "    <tr>\n",
       "      <th>freq</th>\n",
       "      <td>22970</td>\n",
       "      <td>28776</td>\n",
       "      <td>28217</td>\n",
       "      <td>21387</td>\n",
       "    </tr>\n",
       "  </tbody>\n",
       "</table>\n",
       "</div>"
      ],
      "text/plain": [
       "       history_segment   zip_code channel treatment_type\n",
       "count            64000      64000   64000          64000\n",
       "unique               7          3       3              3\n",
       "top       1) $0 - $100  Surburban     Web  Womens E-Mail\n",
       "freq             22970      28776   28217          21387"
      ]
     },
     "execution_count": 5,
     "metadata": {},
     "output_type": "execute_result"
    }
   ],
   "source": [
    "data.describe(include=object)"
   ]
  },
  {
   "cell_type": "markdown",
   "metadata": {},
   "source": [
    "__Check the frequency counts of the categories__"
   ]
  },
  {
   "cell_type": "code",
   "execution_count": 6,
   "metadata": {},
   "outputs": [
    {
     "name": "stdout",
     "output_type": "stream",
     "text": [
      "Surburban    28776\n",
      "Urban        25661\n",
      "Rural         9563\n",
      "Name: zip_code, dtype: int64 \n",
      "\n",
      "Web             28217\n",
      "Phone           28021\n",
      "Multichannel     7762\n",
      "Name: channel, dtype: int64 \n",
      "\n"
     ]
    }
   ],
   "source": [
    "print(data[\"zip_code\"].value_counts(), \"\\n\")\n",
    "print(data[\"channel\"].value_counts(), \"\\n\")"
   ]
  },
  {
   "cell_type": "markdown",
   "metadata": {},
   "source": [
    "## 6. Preprocess Treatment\n",
    "\n",
    "We will consider the treatment of both men and women email as single 'Treatment'. The rest without treatment we consider as control."
   ]
  },
  {
   "cell_type": "code",
   "execution_count": 7,
   "metadata": {},
   "outputs": [
    {
     "data": {
      "text/html": [
       "<div>\n",
       "<style scoped>\n",
       "    .dataframe tbody tr th:only-of-type {\n",
       "        vertical-align: middle;\n",
       "    }\n",
       "\n",
       "    .dataframe tbody tr th {\n",
       "        vertical-align: top;\n",
       "    }\n",
       "\n",
       "    .dataframe thead th {\n",
       "        text-align: right;\n",
       "    }\n",
       "</style>\n",
       "<table border=\"1\" class=\"dataframe\">\n",
       "  <thead>\n",
       "    <tr style=\"text-align: right;\">\n",
       "      <th></th>\n",
       "      <th>recency</th>\n",
       "      <th>history_segment</th>\n",
       "      <th>history</th>\n",
       "      <th>mens</th>\n",
       "      <th>womens</th>\n",
       "      <th>zip_code</th>\n",
       "      <th>newbie</th>\n",
       "      <th>channel</th>\n",
       "      <th>treatment_type</th>\n",
       "      <th>target</th>\n",
       "      <th>treatment</th>\n",
       "    </tr>\n",
       "  </thead>\n",
       "  <tbody>\n",
       "    <tr>\n",
       "      <th>0</th>\n",
       "      <td>10</td>\n",
       "      <td>2) $100 - $200</td>\n",
       "      <td>142.44</td>\n",
       "      <td>1</td>\n",
       "      <td>0</td>\n",
       "      <td>Surburban</td>\n",
       "      <td>0</td>\n",
       "      <td>Phone</td>\n",
       "      <td>Womens E-Mail</td>\n",
       "      <td>0</td>\n",
       "      <td>1</td>\n",
       "    </tr>\n",
       "    <tr>\n",
       "      <th>1</th>\n",
       "      <td>6</td>\n",
       "      <td>3) $200 - $350</td>\n",
       "      <td>329.08</td>\n",
       "      <td>1</td>\n",
       "      <td>1</td>\n",
       "      <td>Rural</td>\n",
       "      <td>1</td>\n",
       "      <td>Web</td>\n",
       "      <td>No E-Mail</td>\n",
       "      <td>0</td>\n",
       "      <td>0</td>\n",
       "    </tr>\n",
       "    <tr>\n",
       "      <th>2</th>\n",
       "      <td>7</td>\n",
       "      <td>2) $100 - $200</td>\n",
       "      <td>180.65</td>\n",
       "      <td>0</td>\n",
       "      <td>1</td>\n",
       "      <td>Surburban</td>\n",
       "      <td>1</td>\n",
       "      <td>Web</td>\n",
       "      <td>Womens E-Mail</td>\n",
       "      <td>0</td>\n",
       "      <td>1</td>\n",
       "    </tr>\n",
       "    <tr>\n",
       "      <th>3</th>\n",
       "      <td>9</td>\n",
       "      <td>5) $500 - $750</td>\n",
       "      <td>675.83</td>\n",
       "      <td>1</td>\n",
       "      <td>0</td>\n",
       "      <td>Rural</td>\n",
       "      <td>1</td>\n",
       "      <td>Web</td>\n",
       "      <td>Mens E-Mail</td>\n",
       "      <td>0</td>\n",
       "      <td>1</td>\n",
       "    </tr>\n",
       "    <tr>\n",
       "      <th>4</th>\n",
       "      <td>2</td>\n",
       "      <td>1) $0 - $100</td>\n",
       "      <td>45.34</td>\n",
       "      <td>1</td>\n",
       "      <td>0</td>\n",
       "      <td>Urban</td>\n",
       "      <td>0</td>\n",
       "      <td>Web</td>\n",
       "      <td>Womens E-Mail</td>\n",
       "      <td>0</td>\n",
       "      <td>1</td>\n",
       "    </tr>\n",
       "  </tbody>\n",
       "</table>\n",
       "</div>"
      ],
      "text/plain": [
       "   recency history_segment  history  mens  womens   zip_code  newbie channel  \\\n",
       "0       10  2) $100 - $200   142.44     1       0  Surburban       0   Phone   \n",
       "1        6  3) $200 - $350   329.08     1       1      Rural       1     Web   \n",
       "2        7  2) $100 - $200   180.65     0       1  Surburban       1     Web   \n",
       "3        9  5) $500 - $750   675.83     1       0      Rural       1     Web   \n",
       "4        2    1) $0 - $100    45.34     1       0      Urban       0     Web   \n",
       "\n",
       "  treatment_type  target  treatment  \n",
       "0  Womens E-Mail       0          1  \n",
       "1      No E-Mail       0          0  \n",
       "2  Womens E-Mail       0          1  \n",
       "3    Mens E-Mail       0          1  \n",
       "4  Womens E-Mail       0          1  "
      ]
     },
     "execution_count": 7,
     "metadata": {},
     "output_type": "execute_result"
    }
   ],
   "source": [
    "# No Email = 0, Mens Email = -1, Womens Email = -1\n",
    "data['treatment'] = data['treatment_type'].map({'Womens E-Mail': 1, \n",
    "                                           'Mens E-Mail': 1, \n",
    "                                           'No E-Mail': 0})\n",
    "\n",
    "data.head()"
   ]
  },
  {
   "cell_type": "markdown",
   "metadata": {},
   "source": [
    "__Check Data Types__\n"
   ]
  },
  {
   "cell_type": "code",
   "execution_count": 8,
   "metadata": {},
   "outputs": [
    {
     "name": "stdout",
     "output_type": "stream",
     "text": [
      "<class 'pandas.core.frame.DataFrame'>\n",
      "RangeIndex: 64000 entries, 0 to 63999\n",
      "Data columns (total 11 columns):\n",
      " #   Column           Non-Null Count  Dtype  \n",
      "---  ------           --------------  -----  \n",
      " 0   recency          64000 non-null  int64  \n",
      " 1   history_segment  64000 non-null  object \n",
      " 2   history          64000 non-null  float64\n",
      " 3   mens             64000 non-null  int64  \n",
      " 4   womens           64000 non-null  int64  \n",
      " 5   zip_code         64000 non-null  object \n",
      " 6   newbie           64000 non-null  int64  \n",
      " 7   channel          64000 non-null  object \n",
      " 8   treatment_type   64000 non-null  object \n",
      " 9   target           64000 non-null  int64  \n",
      " 10  treatment        64000 non-null  int64  \n",
      "dtypes: float64(1), int64(6), object(4)\n",
      "memory usage: 5.4+ MB\n"
     ]
    }
   ],
   "source": [
    "data.info()"
   ]
  },
  {
   "cell_type": "markdown",
   "metadata": {},
   "source": [
    "__One Hot Encoding__"
   ]
  },
  {
   "cell_type": "code",
   "execution_count": 9,
   "metadata": {},
   "outputs": [
    {
     "data": {
      "text/html": [
       "<div>\n",
       "<style scoped>\n",
       "    .dataframe tbody tr th:only-of-type {\n",
       "        vertical-align: middle;\n",
       "    }\n",
       "\n",
       "    .dataframe tbody tr th {\n",
       "        vertical-align: top;\n",
       "    }\n",
       "\n",
       "    .dataframe thead th {\n",
       "        text-align: right;\n",
       "    }\n",
       "</style>\n",
       "<table border=\"1\" class=\"dataframe\">\n",
       "  <thead>\n",
       "    <tr style=\"text-align: right;\">\n",
       "      <th></th>\n",
       "      <th>recency</th>\n",
       "      <th>history</th>\n",
       "      <th>mens</th>\n",
       "      <th>womens</th>\n",
       "      <th>newbie</th>\n",
       "      <th>target</th>\n",
       "      <th>treatment</th>\n",
       "      <th>history_segment_1) $0 - $100</th>\n",
       "      <th>history_segment_2) $100 - $200</th>\n",
       "      <th>history_segment_3) $200 - $350</th>\n",
       "      <th>...</th>\n",
       "      <th>history_segment_7) $1,000 +</th>\n",
       "      <th>zip_code_Rural</th>\n",
       "      <th>zip_code_Surburban</th>\n",
       "      <th>zip_code_Urban</th>\n",
       "      <th>channel_Multichannel</th>\n",
       "      <th>channel_Phone</th>\n",
       "      <th>channel_Web</th>\n",
       "      <th>treatment_type_Mens E-Mail</th>\n",
       "      <th>treatment_type_No E-Mail</th>\n",
       "      <th>treatment_type_Womens E-Mail</th>\n",
       "    </tr>\n",
       "  </thead>\n",
       "  <tbody>\n",
       "    <tr>\n",
       "      <th>0</th>\n",
       "      <td>10</td>\n",
       "      <td>142.44</td>\n",
       "      <td>1</td>\n",
       "      <td>0</td>\n",
       "      <td>0</td>\n",
       "      <td>0</td>\n",
       "      <td>1</td>\n",
       "      <td>0</td>\n",
       "      <td>1</td>\n",
       "      <td>0</td>\n",
       "      <td>...</td>\n",
       "      <td>0</td>\n",
       "      <td>0</td>\n",
       "      <td>1</td>\n",
       "      <td>0</td>\n",
       "      <td>0</td>\n",
       "      <td>1</td>\n",
       "      <td>0</td>\n",
       "      <td>0</td>\n",
       "      <td>0</td>\n",
       "      <td>1</td>\n",
       "    </tr>\n",
       "    <tr>\n",
       "      <th>1</th>\n",
       "      <td>6</td>\n",
       "      <td>329.08</td>\n",
       "      <td>1</td>\n",
       "      <td>1</td>\n",
       "      <td>1</td>\n",
       "      <td>0</td>\n",
       "      <td>0</td>\n",
       "      <td>0</td>\n",
       "      <td>0</td>\n",
       "      <td>1</td>\n",
       "      <td>...</td>\n",
       "      <td>0</td>\n",
       "      <td>1</td>\n",
       "      <td>0</td>\n",
       "      <td>0</td>\n",
       "      <td>0</td>\n",
       "      <td>0</td>\n",
       "      <td>1</td>\n",
       "      <td>0</td>\n",
       "      <td>1</td>\n",
       "      <td>0</td>\n",
       "    </tr>\n",
       "    <tr>\n",
       "      <th>2</th>\n",
       "      <td>7</td>\n",
       "      <td>180.65</td>\n",
       "      <td>0</td>\n",
       "      <td>1</td>\n",
       "      <td>1</td>\n",
       "      <td>0</td>\n",
       "      <td>1</td>\n",
       "      <td>0</td>\n",
       "      <td>1</td>\n",
       "      <td>0</td>\n",
       "      <td>...</td>\n",
       "      <td>0</td>\n",
       "      <td>0</td>\n",
       "      <td>1</td>\n",
       "      <td>0</td>\n",
       "      <td>0</td>\n",
       "      <td>0</td>\n",
       "      <td>1</td>\n",
       "      <td>0</td>\n",
       "      <td>0</td>\n",
       "      <td>1</td>\n",
       "    </tr>\n",
       "    <tr>\n",
       "      <th>3</th>\n",
       "      <td>9</td>\n",
       "      <td>675.83</td>\n",
       "      <td>1</td>\n",
       "      <td>0</td>\n",
       "      <td>1</td>\n",
       "      <td>0</td>\n",
       "      <td>1</td>\n",
       "      <td>0</td>\n",
       "      <td>0</td>\n",
       "      <td>0</td>\n",
       "      <td>...</td>\n",
       "      <td>0</td>\n",
       "      <td>1</td>\n",
       "      <td>0</td>\n",
       "      <td>0</td>\n",
       "      <td>0</td>\n",
       "      <td>0</td>\n",
       "      <td>1</td>\n",
       "      <td>1</td>\n",
       "      <td>0</td>\n",
       "      <td>0</td>\n",
       "    </tr>\n",
       "    <tr>\n",
       "      <th>4</th>\n",
       "      <td>2</td>\n",
       "      <td>45.34</td>\n",
       "      <td>1</td>\n",
       "      <td>0</td>\n",
       "      <td>0</td>\n",
       "      <td>0</td>\n",
       "      <td>1</td>\n",
       "      <td>1</td>\n",
       "      <td>0</td>\n",
       "      <td>0</td>\n",
       "      <td>...</td>\n",
       "      <td>0</td>\n",
       "      <td>0</td>\n",
       "      <td>0</td>\n",
       "      <td>1</td>\n",
       "      <td>0</td>\n",
       "      <td>0</td>\n",
       "      <td>1</td>\n",
       "      <td>0</td>\n",
       "      <td>0</td>\n",
       "      <td>1</td>\n",
       "    </tr>\n",
       "  </tbody>\n",
       "</table>\n",
       "<p>5 rows × 23 columns</p>\n",
       "</div>"
      ],
      "text/plain": [
       "   recency  history  mens  womens  newbie  target  treatment  \\\n",
       "0       10   142.44     1       0       0       0          1   \n",
       "1        6   329.08     1       1       1       0          0   \n",
       "2        7   180.65     0       1       1       0          1   \n",
       "3        9   675.83     1       0       1       0          1   \n",
       "4        2    45.34     1       0       0       0          1   \n",
       "\n",
       "   history_segment_1) $0 - $100  history_segment_2) $100 - $200  \\\n",
       "0                             0                               1   \n",
       "1                             0                               0   \n",
       "2                             0                               1   \n",
       "3                             0                               0   \n",
       "4                             1                               0   \n",
       "\n",
       "   history_segment_3) $200 - $350  ...  history_segment_7) $1,000 +  \\\n",
       "0                               0  ...                            0   \n",
       "1                               1  ...                            0   \n",
       "2                               0  ...                            0   \n",
       "3                               0  ...                            0   \n",
       "4                               0  ...                            0   \n",
       "\n",
       "   zip_code_Rural  zip_code_Surburban  zip_code_Urban  channel_Multichannel  \\\n",
       "0               0                   1               0                     0   \n",
       "1               1                   0               0                     0   \n",
       "2               0                   1               0                     0   \n",
       "3               1                   0               0                     0   \n",
       "4               0                   0               1                     0   \n",
       "\n",
       "   channel_Phone  channel_Web  treatment_type_Mens E-Mail  \\\n",
       "0              1            0                           0   \n",
       "1              0            1                           0   \n",
       "2              0            1                           0   \n",
       "3              0            1                           1   \n",
       "4              0            1                           0   \n",
       "\n",
       "   treatment_type_No E-Mail  treatment_type_Womens E-Mail  \n",
       "0                         0                             1  \n",
       "1                         1                             0  \n",
       "2                         0                             1  \n",
       "3                         0                             0  \n",
       "4                         0                             1  \n",
       "\n",
       "[5 rows x 23 columns]"
      ]
     },
     "execution_count": 9,
     "metadata": {},
     "output_type": "execute_result"
    }
   ],
   "source": [
    "data = pd.get_dummies(data)\n",
    "data.head()"
   ]
  },
  {
   "cell_type": "markdown",
   "metadata": {},
   "source": [
    "\n",
    "---\n",
    "<br><br><br>\n",
    "\n",
    "## 7. Treatment and Control"
   ]
  },
  {
   "cell_type": "markdown",
   "metadata": {},
   "source": [
    "__Create X and y datasets. Also the column 'Treatment' for filtering the treatment and control datasets__"
   ]
  },
  {
   "cell_type": "code",
   "execution_count": 10,
   "metadata": {},
   "outputs": [],
   "source": [
    "X = data.drop(columns=[\"target\"])\n",
    "y = data[\"target\"]\n",
    "W = data[\"treatment\"]"
   ]
  },
  {
   "cell_type": "code",
   "execution_count": 11,
   "metadata": {},
   "outputs": [],
   "source": [
    "X_treatment, y_treatment = X[W == 1], y[W == 1]\n",
    "X_control, y_control = X[W == 0], y[W == 0]"
   ]
  },
  {
   "cell_type": "code",
   "execution_count": 12,
   "metadata": {},
   "outputs": [
    {
     "name": "stdout",
     "output_type": "stream",
     "text": [
      "Treatment:  (42694, 22)\n",
      "Control:  (21306, 22)\n"
     ]
    }
   ],
   "source": [
    "print(\"Treatment: \", X_treatment.shape)\n",
    "print(\"Control: \", X_control.shape)"
   ]
  },
  {
   "cell_type": "markdown",
   "metadata": {},
   "source": [
    "__Make Treatment and Control in same proportion (optional)__\n"
   ]
  },
  {
   "cell_type": "code",
   "execution_count": 13,
   "metadata": {},
   "outputs": [],
   "source": [
    "X_treatment = X_treatment.iloc[:X_control.shape[0],:]\n",
    "y_treatment = y_treatment.iloc[:y_control.shape[0]]"
   ]
  },
  {
   "cell_type": "code",
   "execution_count": 14,
   "metadata": {},
   "outputs": [
    {
     "name": "stdout",
     "output_type": "stream",
     "text": [
      "Treatment:  (21306, 22)\n",
      "Control:  (21306, 22)\n"
     ]
    }
   ],
   "source": [
    "print(\"Treatment: \", X_treatment.shape)\n",
    "print(\"Control: \", X_control.shape)"
   ]
  },
  {
   "cell_type": "markdown",
   "metadata": {},
   "source": [
    "__Reconstruct X and y__\n"
   ]
  },
  {
   "cell_type": "code",
   "execution_count": 15,
   "metadata": {},
   "outputs": [
    {
     "name": "stdout",
     "output_type": "stream",
     "text": [
      "(42612, 22) (42612,)\n"
     ]
    }
   ],
   "source": [
    "X = pd.concat([X_treatment,X_control])\n",
    "y = pd.concat([y_treatment,y_control])\n",
    "print(X.shape, y.shape)"
   ]
  },
  {
   "cell_type": "markdown",
   "metadata": {},
   "source": [
    "\n",
    "---\n",
    "<br><br><br>\n",
    "\n",
    "## 8. Train the Models and calculate uplift\n",
    "\n",
    "We build separate models for Control and treatment. Use the scores from both these models and compute uplift scores."
   ]
  },
  {
   "cell_type": "code",
   "execution_count": 16,
   "metadata": {},
   "outputs": [],
   "source": [
    "from sklearn.linear_model import LogisticRegression"
   ]
  },
  {
   "cell_type": "code",
   "execution_count": 17,
   "metadata": {},
   "outputs": [],
   "source": [
    "# Building logistic regression models for treatment and control groups\n",
    "model_treatment = LogisticRegression(random_state=42, max_iter=1000)\n",
    "model_control = LogisticRegression(random_state=42, max_iter=1000)"
   ]
  },
  {
   "cell_type": "markdown",
   "metadata": {},
   "source": [
    "The above model did not converge initially with the default 100 iterations. Increase `max_iter=1000` for it to converge."
   ]
  },
  {
   "cell_type": "markdown",
   "metadata": {},
   "source": [
    "__Train__"
   ]
  },
  {
   "cell_type": "code",
   "execution_count": 18,
   "metadata": {},
   "outputs": [
    {
     "data": {
      "text/html": [
       "<style>#sk-container-id-1 {color: black;background-color: white;}#sk-container-id-1 pre{padding: 0;}#sk-container-id-1 div.sk-toggleable {background-color: white;}#sk-container-id-1 label.sk-toggleable__label {cursor: pointer;display: block;width: 100%;margin-bottom: 0;padding: 0.3em;box-sizing: border-box;text-align: center;}#sk-container-id-1 label.sk-toggleable__label-arrow:before {content: \"▸\";float: left;margin-right: 0.25em;color: #696969;}#sk-container-id-1 label.sk-toggleable__label-arrow:hover:before {color: black;}#sk-container-id-1 div.sk-estimator:hover label.sk-toggleable__label-arrow:before {color: black;}#sk-container-id-1 div.sk-toggleable__content {max-height: 0;max-width: 0;overflow: hidden;text-align: left;background-color: #f0f8ff;}#sk-container-id-1 div.sk-toggleable__content pre {margin: 0.2em;color: black;border-radius: 0.25em;background-color: #f0f8ff;}#sk-container-id-1 input.sk-toggleable__control:checked~div.sk-toggleable__content {max-height: 200px;max-width: 100%;overflow: auto;}#sk-container-id-1 input.sk-toggleable__control:checked~label.sk-toggleable__label-arrow:before {content: \"▾\";}#sk-container-id-1 div.sk-estimator input.sk-toggleable__control:checked~label.sk-toggleable__label {background-color: #d4ebff;}#sk-container-id-1 div.sk-label input.sk-toggleable__control:checked~label.sk-toggleable__label {background-color: #d4ebff;}#sk-container-id-1 input.sk-hidden--visually {border: 0;clip: rect(1px 1px 1px 1px);clip: rect(1px, 1px, 1px, 1px);height: 1px;margin: -1px;overflow: hidden;padding: 0;position: absolute;width: 1px;}#sk-container-id-1 div.sk-estimator {font-family: monospace;background-color: #f0f8ff;border: 1px dotted black;border-radius: 0.25em;box-sizing: border-box;margin-bottom: 0.5em;}#sk-container-id-1 div.sk-estimator:hover {background-color: #d4ebff;}#sk-container-id-1 div.sk-parallel-item::after {content: \"\";width: 100%;border-bottom: 1px solid gray;flex-grow: 1;}#sk-container-id-1 div.sk-label:hover label.sk-toggleable__label {background-color: #d4ebff;}#sk-container-id-1 div.sk-serial::before {content: \"\";position: absolute;border-left: 1px solid gray;box-sizing: border-box;top: 0;bottom: 0;left: 50%;z-index: 0;}#sk-container-id-1 div.sk-serial {display: flex;flex-direction: column;align-items: center;background-color: white;padding-right: 0.2em;padding-left: 0.2em;position: relative;}#sk-container-id-1 div.sk-item {position: relative;z-index: 1;}#sk-container-id-1 div.sk-parallel {display: flex;align-items: stretch;justify-content: center;background-color: white;position: relative;}#sk-container-id-1 div.sk-item::before, #sk-container-id-1 div.sk-parallel-item::before {content: \"\";position: absolute;border-left: 1px solid gray;box-sizing: border-box;top: 0;bottom: 0;left: 50%;z-index: -1;}#sk-container-id-1 div.sk-parallel-item {display: flex;flex-direction: column;z-index: 1;position: relative;background-color: white;}#sk-container-id-1 div.sk-parallel-item:first-child::after {align-self: flex-end;width: 50%;}#sk-container-id-1 div.sk-parallel-item:last-child::after {align-self: flex-start;width: 50%;}#sk-container-id-1 div.sk-parallel-item:only-child::after {width: 0;}#sk-container-id-1 div.sk-dashed-wrapped {border: 1px dashed gray;margin: 0 0.4em 0.5em 0.4em;box-sizing: border-box;padding-bottom: 0.4em;background-color: white;}#sk-container-id-1 div.sk-label label {font-family: monospace;font-weight: bold;display: inline-block;line-height: 1.2em;}#sk-container-id-1 div.sk-label-container {text-align: center;}#sk-container-id-1 div.sk-container {/* jupyter's `normalize.less` sets `[hidden] { display: none; }` but bootstrap.min.css set `[hidden] { display: none !important; }` so we also need the `!important` here to be able to override the default hidden behavior on the sphinx rendered scikit-learn.org. See: https://github.com/scikit-learn/scikit-learn/issues/21755 */display: inline-block !important;position: relative;}#sk-container-id-1 div.sk-text-repr-fallback {display: none;}</style><div id=\"sk-container-id-1\" class=\"sk-top-container\"><div class=\"sk-text-repr-fallback\"><pre>LogisticRegression(max_iter=1000, random_state=42)</pre><b>In a Jupyter environment, please rerun this cell to show the HTML representation or trust the notebook. <br />On GitHub, the HTML representation is unable to render, please try loading this page with nbviewer.org.</b></div><div class=\"sk-container\" hidden><div class=\"sk-item\"><div class=\"sk-estimator sk-toggleable\"><input class=\"sk-toggleable__control sk-hidden--visually\" id=\"sk-estimator-id-1\" type=\"checkbox\" checked><label for=\"sk-estimator-id-1\" class=\"sk-toggleable__label sk-toggleable__label-arrow\">LogisticRegression</label><div class=\"sk-toggleable__content\"><pre>LogisticRegression(max_iter=1000, random_state=42)</pre></div></div></div></div></div>"
      ],
      "text/plain": [
       "LogisticRegression(max_iter=1000, random_state=42)"
      ]
     },
     "execution_count": 18,
     "metadata": {},
     "output_type": "execute_result"
    }
   ],
   "source": [
    "model_treatment.fit(X_treatment, y_treatment)\n",
    "model_control.fit(X_control, y_control)"
   ]
  },
  {
   "cell_type": "code",
   "execution_count": 19,
   "metadata": {},
   "outputs": [],
   "source": [
    "# Predicting probabilities\n",
    "prob_treatment = model_treatment.predict_proba(X)[:, 1]\n",
    "prob_control = model_control.predict_proba(X)[:, 1]"
   ]
  },
  {
   "cell_type": "markdown",
   "metadata": {},
   "source": [
    "__View Scores__"
   ]
  },
  {
   "cell_type": "code",
   "execution_count": 20,
   "metadata": {},
   "outputs": [
    {
     "name": "stdout",
     "output_type": "stream",
     "text": [
      "[0.10437026 0.12166057 0.17799746 0.16999192 0.15972841]\n",
      "[0.13421513 0.10637812 0.21882415 0.2675556  0.1632066 ]\n"
     ]
    }
   ],
   "source": [
    "print(prob_treatment[:5])\n",
    "print(prob_control[:5])"
   ]
  },
  {
   "cell_type": "code",
   "execution_count": 21,
   "metadata": {},
   "outputs": [
    {
     "name": "stdout",
     "output_type": "stream",
     "text": [
      "(42612,)\n",
      "(42612,)\n"
     ]
    }
   ],
   "source": [
    "print(prob_treatment.shape)\n",
    "print(prob_control.shape)"
   ]
  },
  {
   "cell_type": "markdown",
   "metadata": {},
   "source": [
    "__Calc Uplift__\n",
    "\n",
    "Uplift is calculated as the difference between the corresponding prediction scores of treatment and control samples."
   ]
  },
  {
   "cell_type": "code",
   "execution_count": 22,
   "metadata": {},
   "outputs": [
    {
     "name": "stdout",
     "output_type": "stream",
     "text": [
      "[-0.02984488  0.01528245 -0.04082668 ...  0.2448536   0.16099625\n",
      "  0.2137267 ]\n"
     ]
    }
   ],
   "source": [
    "# Calculating uplift\n",
    "uplift = prob_treatment - prob_control\n",
    "print(uplift)"
   ]
  },
  {
   "cell_type": "markdown",
   "metadata": {},
   "source": [
    "So, a negative value of Uplift would imply that, targeting such individuals could be detrimental to the campaign."
   ]
  },
  {
   "cell_type": "markdown",
   "metadata": {},
   "source": [
    "---\n",
    "<br><br><br>\n",
    "\n",
    "\n",
    "## 9. Extracting the four types of customers"
   ]
  },
  {
   "cell_type": "markdown",
   "metadata": {},
   "source": [
    "__Logic:__\n",
    "\n",
    "1. __Persuadables:__ Won't buy unless treated\n",
    "\n",
    "    P(R|T) > 0.5 AND P(R|C) < 0.5  (aka P(R|T) > P(R|C))\n",
    "\n",
    "2. __Sleeping Dogs:__ Stop buying IF treated, else, will buy\n",
    "\n",
    "    P(R|T) < 0.5 AND P(R|C) > 0.5  (aka P(R|T) < P(R|C))\n",
    "\n",
    "3. __Lost Causes:__ Will NOT buy\n",
    "\n",
    "    P(R|T) < 0.5 & P(R|C) < 0.5\n",
    "\n",
    "5. __Sure Things:__ Will surely buy with or without treatment\n",
    "\n",
    "    P(R|T) > 0.5 & P(R|C) > 0.5"
   ]
  },
  {
   "cell_type": "code",
   "execution_count": 23,
   "metadata": {},
   "outputs": [],
   "source": [
    "# Ranking individuals by uplift scores\n",
    "indices = np.argsort(uplift)[::-1]\n",
    "sorted_uplift = uplift[indices]\n",
    "\n",
    "# sort Y, W, treatment and control scores as well.\n",
    "sorted_y = y.to_numpy()[indices]\n",
    "sorted_W = W.to_numpy()[indices]\n",
    "sorted_treatment = prob_treatment[indices]\n",
    "sorted_control = prob_control[indices]"
   ]
  },
  {
   "cell_type": "markdown",
   "metadata": {},
   "source": [
    "__1. Persuadables - Top few scores: People likely to be persuaded by treatment to respond__"
   ]
  },
  {
   "cell_type": "code",
   "execution_count": 24,
   "metadata": {},
   "outputs": [
    {
     "name": "stdout",
     "output_type": "stream",
     "text": [
      "Uplift:            [0.34 0.34 0.34 0.34 0.34 0.34 0.34 0.34 0.34 0.34] \n",
      " Y:                 [0 0 0 0 0 0 0 0 1 0] \n",
      " Treatment type:    [1 1 1 0 0 0 1 1 0 1] \n",
      " Treatment scores:  [0.48 0.49 0.49 0.49 0.49 0.49 0.52 0.49 0.52 0.48] \n",
      " Control scores:    [0.14 0.15 0.15 0.15 0.15 0.15 0.18 0.15 0.18 0.14] \n",
      "\n"
     ]
    }
   ],
   "source": [
    "print(\"Uplift:           \", sorted_uplift[:10].round(2),\"\\n\",\n",
    "      \"Y:                \", sorted_y[:10], \"\\n\",\n",
    "      \"Treatment type:   \", sorted_W[:10], \"\\n\",\n",
    "      \"Treatment scores: \", prob_treatment[indices][:10].round(2), \"\\n\",\n",
    "      \"Control scores:   \", prob_control[indices][:10].round(2), \"\\n\")"
   ]
  },
  {
   "cell_type": "markdown",
   "metadata": {},
   "source": [
    "__2. Sleeping Dogs - Bottom few scores: People Change their mind when exposed to treatment__"
   ]
  },
  {
   "cell_type": "code",
   "execution_count": 25,
   "metadata": {},
   "outputs": [
    {
     "name": "stdout",
     "output_type": "stream",
     "text": [
      "Uplift:            [-0.2  -0.2  -0.21 -0.21 -0.21 -0.21 -0.21 -0.21 -0.21 -0.22] \n",
      " Y:                 [0 0 1 0 0 0 0 0 0 0] \n",
      " Treatment type:    [1 1 1 1 0 0 1 1 1 1] \n",
      " Treatment scores:  [0.25 0.25 0.22 0.26 0.26 0.23 0.26 0.23 0.23 0.23] \n",
      " Control scores:    [0.45 0.46 0.43 0.47 0.47 0.44 0.47 0.45 0.45 0.45] \n",
      "\n"
     ]
    }
   ],
   "source": [
    "print(\"Uplift:           \", sorted_uplift[-10:].round(2),\"\\n\",\n",
    "      \"Y:                \", sorted_y[-10:], \"\\n\",\n",
    "      \"Treatment type:   \", sorted_W[-10:], \"\\n\",\n",
    "      \"Treatment scores: \", prob_treatment[indices][-10:].round(2), \"\\n\",\n",
    "      \"Control scores:   \", prob_control[indices][-10:].round(2), \"\\n\")"
   ]
  },
  {
   "cell_type": "markdown",
   "metadata": {},
   "source": [
    "__Assign the predicted customer category for each record__"
   ]
  },
  {
   "cell_type": "code",
   "execution_count": 26,
   "metadata": {},
   "outputs": [
    {
     "data": {
      "text/html": [
       "<div>\n",
       "<style scoped>\n",
       "    .dataframe tbody tr th:only-of-type {\n",
       "        vertical-align: middle;\n",
       "    }\n",
       "\n",
       "    .dataframe tbody tr th {\n",
       "        vertical-align: top;\n",
       "    }\n",
       "\n",
       "    .dataframe thead th {\n",
       "        text-align: right;\n",
       "    }\n",
       "</style>\n",
       "<table border=\"1\" class=\"dataframe\">\n",
       "  <thead>\n",
       "    <tr style=\"text-align: right;\">\n",
       "      <th></th>\n",
       "      <th>y</th>\n",
       "      <th>treatment</th>\n",
       "      <th>prob_T</th>\n",
       "      <th>prob_C</th>\n",
       "      <th>uplift</th>\n",
       "    </tr>\n",
       "  </thead>\n",
       "  <tbody>\n",
       "    <tr>\n",
       "      <th>0</th>\n",
       "      <td>0</td>\n",
       "      <td>1</td>\n",
       "      <td>0.4756</td>\n",
       "      <td>0.1368</td>\n",
       "      <td>0.3388</td>\n",
       "    </tr>\n",
       "    <tr>\n",
       "      <th>1</th>\n",
       "      <td>0</td>\n",
       "      <td>1</td>\n",
       "      <td>0.4900</td>\n",
       "      <td>0.1513</td>\n",
       "      <td>0.3387</td>\n",
       "    </tr>\n",
       "    <tr>\n",
       "      <th>2</th>\n",
       "      <td>0</td>\n",
       "      <td>1</td>\n",
       "      <td>0.4901</td>\n",
       "      <td>0.1516</td>\n",
       "      <td>0.3385</td>\n",
       "    </tr>\n",
       "    <tr>\n",
       "      <th>3</th>\n",
       "      <td>0</td>\n",
       "      <td>0</td>\n",
       "      <td>0.4901</td>\n",
       "      <td>0.1517</td>\n",
       "      <td>0.3384</td>\n",
       "    </tr>\n",
       "    <tr>\n",
       "      <th>4</th>\n",
       "      <td>0</td>\n",
       "      <td>0</td>\n",
       "      <td>0.4901</td>\n",
       "      <td>0.1518</td>\n",
       "      <td>0.3384</td>\n",
       "    </tr>\n",
       "  </tbody>\n",
       "</table>\n",
       "</div>"
      ],
      "text/plain": [
       "   y  treatment  prob_T  prob_C  uplift\n",
       "0  0          1  0.4756  0.1368  0.3388\n",
       "1  0          1  0.4900  0.1513  0.3387\n",
       "2  0          1  0.4901  0.1516  0.3385\n",
       "3  0          0  0.4901  0.1517  0.3384\n",
       "4  0          0  0.4901  0.1518  0.3384"
      ]
     },
     "execution_count": 26,
     "metadata": {},
     "output_type": "execute_result"
    }
   ],
   "source": [
    "df_scores = pd.DataFrame({\"y\":sorted_y, \n",
    "                          \"treatment\": sorted_W,\n",
    "                          \"prob_T\": prob_treatment[indices], \n",
    "                          \"prob_C\":prob_control[indices], \n",
    "                          \"uplift\":sorted_uplift}).round(4)\n",
    "\n",
    "df_scores.head()"
   ]
  },
  {
   "cell_type": "code",
   "execution_count": 27,
   "metadata": {},
   "outputs": [
    {
     "data": {
      "text/plain": [
       "1    28404\n",
       "0    14208\n",
       "Name: treatment, dtype: int64"
      ]
     },
     "execution_count": 27,
     "metadata": {},
     "output_type": "execute_result"
    }
   ],
   "source": [
    "df_scores.treatment.value_counts()"
   ]
  },
  {
   "cell_type": "code",
   "execution_count": 28,
   "metadata": {},
   "outputs": [
    {
     "name": "stdout",
     "output_type": "stream",
     "text": [
      "Freq Count:\n",
      " lost_cause      41854\n",
      "persuadable       728\n",
      "sleeping_dog       28\n",
      "sure_thing          2\n",
      "Name: type, dtype: int64\n"
     ]
    }
   ],
   "source": [
    "# Assign Predicted Customr Types\n",
    "\n",
    "def set_cust_type(df_scores=df_scores,cutoff=0.5):\n",
    "    df_scores['type'] = \"\"\n",
    "    # Persuadables:  P(R|T) > 0.5 AND P(R|C) < 0.5  (aka P(R|T) > P(R|C))\n",
    "    df_scores.loc[(df_scores.prob_T >= cutoff) & (df_scores.prob_C < cutoff), 'type'] = \"persuadable\"        \n",
    "    # Sleeping Dogs: P(R|T) < 0.5 AND P(R|C) > 0.5  (aka P(R|T) < P(R|C))\n",
    "    df_scores.loc[(df_scores.prob_T < cutoff) & (df_scores.prob_C >= cutoff), 'type'] = \"sleeping_dog\"\n",
    "    # Lost Causes: P(R|T) < 0.5 & P(R|C) < 0.5\n",
    "    df_scores.loc[(df_scores.prob_T < cutoff) & (df_scores.prob_C < cutoff), 'type'] = \"lost_cause\"\n",
    "    # Sure things: P(R|T) > 0.5 & P(R|C) > 0.5\n",
    "    df_scores.loc[(df_scores.prob_T >= cutoff) & (df_scores.prob_C > cutoff), 'type'] = \"sure_thing\"\n",
    "    # Check \n",
    "    print(\"Freq Count:\\n\", df_scores['type'].value_counts())\n",
    "    return(df_scores)\n",
    "\n",
    "# Apply\n",
    "df_scores = set_cust_type(df_scores)"
   ]
  },
  {
   "cell_type": "markdown",
   "metadata": {},
   "source": [
    "Looks like we have 1 sure thing. Let's check it out."
   ]
  },
  {
   "cell_type": "code",
   "execution_count": 29,
   "metadata": {},
   "outputs": [
    {
     "data": {
      "text/html": [
       "<div>\n",
       "<style scoped>\n",
       "    .dataframe tbody tr th:only-of-type {\n",
       "        vertical-align: middle;\n",
       "    }\n",
       "\n",
       "    .dataframe tbody tr th {\n",
       "        vertical-align: top;\n",
       "    }\n",
       "\n",
       "    .dataframe thead th {\n",
       "        text-align: right;\n",
       "    }\n",
       "</style>\n",
       "<table border=\"1\" class=\"dataframe\">\n",
       "  <thead>\n",
       "    <tr style=\"text-align: right;\">\n",
       "      <th></th>\n",
       "      <th>y</th>\n",
       "      <th>treatment</th>\n",
       "      <th>prob_T</th>\n",
       "      <th>prob_C</th>\n",
       "      <th>uplift</th>\n",
       "      <th>type</th>\n",
       "    </tr>\n",
       "  </thead>\n",
       "  <tbody>\n",
       "    <tr>\n",
       "      <th>41169</th>\n",
       "      <td>1</td>\n",
       "      <td>0</td>\n",
       "      <td>0.5000</td>\n",
       "      <td>0.5919</td>\n",
       "      <td>-0.0919</td>\n",
       "      <td>sure_thing</td>\n",
       "    </tr>\n",
       "    <tr>\n",
       "      <th>41221</th>\n",
       "      <td>1</td>\n",
       "      <td>1</td>\n",
       "      <td>0.5003</td>\n",
       "      <td>0.5931</td>\n",
       "      <td>-0.0928</td>\n",
       "      <td>sure_thing</td>\n",
       "    </tr>\n",
       "  </tbody>\n",
       "</table>\n",
       "</div>"
      ],
      "text/plain": [
       "       y  treatment  prob_T  prob_C  uplift        type\n",
       "41169  1          0  0.5000  0.5919 -0.0919  sure_thing\n",
       "41221  1          1  0.5003  0.5931 -0.0928  sure_thing"
      ]
     },
     "execution_count": 29,
     "metadata": {},
     "output_type": "execute_result"
    }
   ],
   "source": [
    "df_scores.loc[df_scores.type==\"sure_thing\", :] "
   ]
  },
  {
   "cell_type": "markdown",
   "metadata": {},
   "source": [
    "This customer is a surething, but has a negative uplift. So better leave him alone and not run campaign on him.\n",
    "\n",
    "__FAQ:__ If 'surething' AND the uplift is positive, should we do treatment? \n",
    "\n",
    "__Ans:__ Well, it's a business decision, mostly depending on budget. If sufficient budgest available, and profit from the product sale justifies the cost of acquisition, then might be a good idea to treat."
   ]
  },
  {
   "cell_type": "markdown",
   "metadata": {},
   "source": [
    "Another problem is most of them are lost causes. We can fix this by lowering the cutoff score."
   ]
  },
  {
   "cell_type": "markdown",
   "metadata": {},
   "source": [
    "__Changing the cutoff from .5 to .3__"
   ]
  },
  {
   "cell_type": "code",
   "execution_count": 30,
   "metadata": {},
   "outputs": [
    {
     "name": "stdout",
     "output_type": "stream",
     "text": [
      "Freq Count:\n",
      " lost_cause      30641\n",
      "persuadable      9734\n",
      "sleeping_dog     1341\n",
      "sure_thing        896\n",
      "Name: type, dtype: int64\n"
     ]
    },
    {
     "data": {
      "text/html": [
       "<div>\n",
       "<style scoped>\n",
       "    .dataframe tbody tr th:only-of-type {\n",
       "        vertical-align: middle;\n",
       "    }\n",
       "\n",
       "    .dataframe tbody tr th {\n",
       "        vertical-align: top;\n",
       "    }\n",
       "\n",
       "    .dataframe thead th {\n",
       "        text-align: right;\n",
       "    }\n",
       "</style>\n",
       "<table border=\"1\" class=\"dataframe\">\n",
       "  <thead>\n",
       "    <tr style=\"text-align: right;\">\n",
       "      <th></th>\n",
       "      <th>y</th>\n",
       "      <th>treatment</th>\n",
       "      <th>prob_T</th>\n",
       "      <th>prob_C</th>\n",
       "      <th>uplift</th>\n",
       "      <th>type</th>\n",
       "    </tr>\n",
       "  </thead>\n",
       "  <tbody>\n",
       "    <tr>\n",
       "      <th>0</th>\n",
       "      <td>0</td>\n",
       "      <td>1</td>\n",
       "      <td>0.4756</td>\n",
       "      <td>0.1368</td>\n",
       "      <td>0.3388</td>\n",
       "      <td>persuadable</td>\n",
       "    </tr>\n",
       "    <tr>\n",
       "      <th>1</th>\n",
       "      <td>0</td>\n",
       "      <td>1</td>\n",
       "      <td>0.4900</td>\n",
       "      <td>0.1513</td>\n",
       "      <td>0.3387</td>\n",
       "      <td>persuadable</td>\n",
       "    </tr>\n",
       "    <tr>\n",
       "      <th>2</th>\n",
       "      <td>0</td>\n",
       "      <td>1</td>\n",
       "      <td>0.4901</td>\n",
       "      <td>0.1516</td>\n",
       "      <td>0.3385</td>\n",
       "      <td>persuadable</td>\n",
       "    </tr>\n",
       "    <tr>\n",
       "      <th>3</th>\n",
       "      <td>0</td>\n",
       "      <td>0</td>\n",
       "      <td>0.4901</td>\n",
       "      <td>0.1517</td>\n",
       "      <td>0.3384</td>\n",
       "      <td>persuadable</td>\n",
       "    </tr>\n",
       "    <tr>\n",
       "      <th>4</th>\n",
       "      <td>0</td>\n",
       "      <td>0</td>\n",
       "      <td>0.4901</td>\n",
       "      <td>0.1518</td>\n",
       "      <td>0.3384</td>\n",
       "      <td>persuadable</td>\n",
       "    </tr>\n",
       "  </tbody>\n",
       "</table>\n",
       "</div>"
      ],
      "text/plain": [
       "   y  treatment  prob_T  prob_C  uplift         type\n",
       "0  0          1  0.4756  0.1368  0.3388  persuadable\n",
       "1  0          1  0.4900  0.1513  0.3387  persuadable\n",
       "2  0          1  0.4901  0.1516  0.3385  persuadable\n",
       "3  0          0  0.4901  0.1517  0.3384  persuadable\n",
       "4  0          0  0.4901  0.1518  0.3384  persuadable"
      ]
     },
     "execution_count": 30,
     "metadata": {},
     "output_type": "execute_result"
    }
   ],
   "source": [
    "# Apply\n",
    "df_scores = set_cust_type(df_scores, cutoff=0.3)\n",
    "df_scores.head()"
   ]
  },
  {
   "cell_type": "markdown",
   "metadata": {},
   "source": [
    "__Let's look at few random examples__"
   ]
  },
  {
   "cell_type": "code",
   "execution_count": 31,
   "metadata": {},
   "outputs": [
    {
     "data": {
      "text/html": [
       "<div>\n",
       "<style scoped>\n",
       "    .dataframe tbody tr th:only-of-type {\n",
       "        vertical-align: middle;\n",
       "    }\n",
       "\n",
       "    .dataframe tbody tr th {\n",
       "        vertical-align: top;\n",
       "    }\n",
       "\n",
       "    .dataframe thead th {\n",
       "        text-align: right;\n",
       "    }\n",
       "</style>\n",
       "<table border=\"1\" class=\"dataframe\">\n",
       "  <thead>\n",
       "    <tr style=\"text-align: right;\">\n",
       "      <th></th>\n",
       "      <th>y</th>\n",
       "      <th>treatment</th>\n",
       "      <th>prob_T</th>\n",
       "      <th>prob_C</th>\n",
       "      <th>uplift</th>\n",
       "      <th>type</th>\n",
       "    </tr>\n",
       "  </thead>\n",
       "  <tbody>\n",
       "    <tr>\n",
       "      <th>2552</th>\n",
       "      <td>0</td>\n",
       "      <td>0</td>\n",
       "      <td>0.3855</td>\n",
       "      <td>0.1306</td>\n",
       "      <td>0.2549</td>\n",
       "      <td>persuadable</td>\n",
       "    </tr>\n",
       "    <tr>\n",
       "      <th>15646</th>\n",
       "      <td>0</td>\n",
       "      <td>1</td>\n",
       "      <td>0.2630</td>\n",
       "      <td>0.1048</td>\n",
       "      <td>0.1582</td>\n",
       "      <td>lost_cause</td>\n",
       "    </tr>\n",
       "    <tr>\n",
       "      <th>21953</th>\n",
       "      <td>0</td>\n",
       "      <td>0</td>\n",
       "      <td>0.1325</td>\n",
       "      <td>0.0838</td>\n",
       "      <td>0.0486</td>\n",
       "      <td>lost_cause</td>\n",
       "    </tr>\n",
       "    <tr>\n",
       "      <th>26206</th>\n",
       "      <td>1</td>\n",
       "      <td>1</td>\n",
       "      <td>0.2820</td>\n",
       "      <td>0.2660</td>\n",
       "      <td>0.0160</td>\n",
       "      <td>lost_cause</td>\n",
       "    </tr>\n",
       "    <tr>\n",
       "      <th>14013</th>\n",
       "      <td>1</td>\n",
       "      <td>0</td>\n",
       "      <td>0.2997</td>\n",
       "      <td>0.1332</td>\n",
       "      <td>0.1665</td>\n",
       "      <td>lost_cause</td>\n",
       "    </tr>\n",
       "    <tr>\n",
       "      <th>2273</th>\n",
       "      <td>0</td>\n",
       "      <td>1</td>\n",
       "      <td>0.4890</td>\n",
       "      <td>0.2305</td>\n",
       "      <td>0.2586</td>\n",
       "      <td>persuadable</td>\n",
       "    </tr>\n",
       "    <tr>\n",
       "      <th>39363</th>\n",
       "      <td>0</td>\n",
       "      <td>1</td>\n",
       "      <td>0.1235</td>\n",
       "      <td>0.1871</td>\n",
       "      <td>-0.0637</td>\n",
       "      <td>lost_cause</td>\n",
       "    </tr>\n",
       "    <tr>\n",
       "      <th>13634</th>\n",
       "      <td>0</td>\n",
       "      <td>1</td>\n",
       "      <td>0.2369</td>\n",
       "      <td>0.0690</td>\n",
       "      <td>0.1678</td>\n",
       "      <td>lost_cause</td>\n",
       "    </tr>\n",
       "    <tr>\n",
       "      <th>7834</th>\n",
       "      <td>0</td>\n",
       "      <td>1</td>\n",
       "      <td>0.2926</td>\n",
       "      <td>0.0838</td>\n",
       "      <td>0.2088</td>\n",
       "      <td>lost_cause</td>\n",
       "    </tr>\n",
       "    <tr>\n",
       "      <th>11918</th>\n",
       "      <td>1</td>\n",
       "      <td>0</td>\n",
       "      <td>0.3179</td>\n",
       "      <td>0.1398</td>\n",
       "      <td>0.1782</td>\n",
       "      <td>persuadable</td>\n",
       "    </tr>\n",
       "  </tbody>\n",
       "</table>\n",
       "</div>"
      ],
      "text/plain": [
       "       y  treatment  prob_T  prob_C  uplift         type\n",
       "2552   0          0  0.3855  0.1306  0.2549  persuadable\n",
       "15646  0          1  0.2630  0.1048  0.1582   lost_cause\n",
       "21953  0          0  0.1325  0.0838  0.0486   lost_cause\n",
       "26206  1          1  0.2820  0.2660  0.0160   lost_cause\n",
       "14013  1          0  0.2997  0.1332  0.1665   lost_cause\n",
       "2273   0          1  0.4890  0.2305  0.2586  persuadable\n",
       "39363  0          1  0.1235  0.1871 -0.0637   lost_cause\n",
       "13634  0          1  0.2369  0.0690  0.1678   lost_cause\n",
       "7834   0          1  0.2926  0.0838  0.2088   lost_cause\n",
       "11918  1          0  0.3179  0.1398  0.1782  persuadable"
      ]
     },
     "execution_count": 31,
     "metadata": {},
     "output_type": "execute_result"
    }
   ],
   "source": [
    "df_scores.sample(10)"
   ]
  },
  {
   "cell_type": "markdown",
   "metadata": {},
   "source": [
    "Since the concept of Persuadable or not changes with the cutoff, how do we decide if a given customer is actually persuadable or not?\n",
    "\n",
    "- --> Consider all +ve uplift scores + the treatment score is sufficiently high.\n",
    "- --> Alternately, study the QINI curve and see where you want to cut."
   ]
  },
  {
   "cell_type": "markdown",
   "metadata": {},
   "source": [
    "The dataset is already sorted by uplift so just take the customers from the top.\n",
    "\n",
    "Let's draw a random sample from the top 1000 records."
   ]
  },
  {
   "cell_type": "code",
   "execution_count": 32,
   "metadata": {},
   "outputs": [
    {
     "data": {
      "text/html": [
       "<div>\n",
       "<style scoped>\n",
       "    .dataframe tbody tr th:only-of-type {\n",
       "        vertical-align: middle;\n",
       "    }\n",
       "\n",
       "    .dataframe tbody tr th {\n",
       "        vertical-align: top;\n",
       "    }\n",
       "\n",
       "    .dataframe thead th {\n",
       "        text-align: right;\n",
       "    }\n",
       "</style>\n",
       "<table border=\"1\" class=\"dataframe\">\n",
       "  <thead>\n",
       "    <tr style=\"text-align: right;\">\n",
       "      <th></th>\n",
       "      <th>y</th>\n",
       "      <th>treatment</th>\n",
       "      <th>prob_T</th>\n",
       "      <th>prob_C</th>\n",
       "      <th>uplift</th>\n",
       "      <th>type</th>\n",
       "    </tr>\n",
       "  </thead>\n",
       "  <tbody>\n",
       "    <tr>\n",
       "      <th>111</th>\n",
       "      <td>1</td>\n",
       "      <td>0</td>\n",
       "      <td>0.5370</td>\n",
       "      <td>0.2093</td>\n",
       "      <td>0.3277</td>\n",
       "      <td>persuadable</td>\n",
       "    </tr>\n",
       "    <tr>\n",
       "      <th>542</th>\n",
       "      <td>0</td>\n",
       "      <td>1</td>\n",
       "      <td>0.5657</td>\n",
       "      <td>0.2576</td>\n",
       "      <td>0.3081</td>\n",
       "      <td>persuadable</td>\n",
       "    </tr>\n",
       "    <tr>\n",
       "      <th>623</th>\n",
       "      <td>0</td>\n",
       "      <td>1</td>\n",
       "      <td>0.5436</td>\n",
       "      <td>0.2396</td>\n",
       "      <td>0.3040</td>\n",
       "      <td>persuadable</td>\n",
       "    </tr>\n",
       "    <tr>\n",
       "      <th>223</th>\n",
       "      <td>1</td>\n",
       "      <td>0</td>\n",
       "      <td>0.4566</td>\n",
       "      <td>0.1358</td>\n",
       "      <td>0.3208</td>\n",
       "      <td>persuadable</td>\n",
       "    </tr>\n",
       "    <tr>\n",
       "      <th>143</th>\n",
       "      <td>0</td>\n",
       "      <td>1</td>\n",
       "      <td>0.5243</td>\n",
       "      <td>0.1993</td>\n",
       "      <td>0.3250</td>\n",
       "      <td>persuadable</td>\n",
       "    </tr>\n",
       "    <tr>\n",
       "      <th>403</th>\n",
       "      <td>0</td>\n",
       "      <td>1</td>\n",
       "      <td>0.4748</td>\n",
       "      <td>0.1610</td>\n",
       "      <td>0.3138</td>\n",
       "      <td>persuadable</td>\n",
       "    </tr>\n",
       "    <tr>\n",
       "      <th>791</th>\n",
       "      <td>0</td>\n",
       "      <td>0</td>\n",
       "      <td>0.4458</td>\n",
       "      <td>0.1493</td>\n",
       "      <td>0.2964</td>\n",
       "      <td>persuadable</td>\n",
       "    </tr>\n",
       "    <tr>\n",
       "      <th>835</th>\n",
       "      <td>0</td>\n",
       "      <td>0</td>\n",
       "      <td>0.4305</td>\n",
       "      <td>0.1355</td>\n",
       "      <td>0.2949</td>\n",
       "      <td>persuadable</td>\n",
       "    </tr>\n",
       "    <tr>\n",
       "      <th>576</th>\n",
       "      <td>1</td>\n",
       "      <td>0</td>\n",
       "      <td>0.4317</td>\n",
       "      <td>0.1255</td>\n",
       "      <td>0.3063</td>\n",
       "      <td>persuadable</td>\n",
       "    </tr>\n",
       "    <tr>\n",
       "      <th>921</th>\n",
       "      <td>0</td>\n",
       "      <td>1</td>\n",
       "      <td>0.4317</td>\n",
       "      <td>0.1399</td>\n",
       "      <td>0.2918</td>\n",
       "      <td>persuadable</td>\n",
       "    </tr>\n",
       "    <tr>\n",
       "      <th>562</th>\n",
       "      <td>0</td>\n",
       "      <td>1</td>\n",
       "      <td>0.4702</td>\n",
       "      <td>0.1632</td>\n",
       "      <td>0.3070</td>\n",
       "      <td>persuadable</td>\n",
       "    </tr>\n",
       "    <tr>\n",
       "      <th>744</th>\n",
       "      <td>0</td>\n",
       "      <td>1</td>\n",
       "      <td>0.4059</td>\n",
       "      <td>0.1082</td>\n",
       "      <td>0.2976</td>\n",
       "      <td>persuadable</td>\n",
       "    </tr>\n",
       "    <tr>\n",
       "      <th>965</th>\n",
       "      <td>0</td>\n",
       "      <td>0</td>\n",
       "      <td>0.5266</td>\n",
       "      <td>0.2365</td>\n",
       "      <td>0.2901</td>\n",
       "      <td>persuadable</td>\n",
       "    </tr>\n",
       "    <tr>\n",
       "      <th>151</th>\n",
       "      <td>0</td>\n",
       "      <td>1</td>\n",
       "      <td>0.4844</td>\n",
       "      <td>0.1600</td>\n",
       "      <td>0.3244</td>\n",
       "      <td>persuadable</td>\n",
       "    </tr>\n",
       "    <tr>\n",
       "      <th>192</th>\n",
       "      <td>0</td>\n",
       "      <td>0</td>\n",
       "      <td>0.4722</td>\n",
       "      <td>0.1498</td>\n",
       "      <td>0.3224</td>\n",
       "      <td>persuadable</td>\n",
       "    </tr>\n",
       "    <tr>\n",
       "      <th>477</th>\n",
       "      <td>0</td>\n",
       "      <td>1</td>\n",
       "      <td>0.4780</td>\n",
       "      <td>0.1672</td>\n",
       "      <td>0.3107</td>\n",
       "      <td>persuadable</td>\n",
       "    </tr>\n",
       "    <tr>\n",
       "      <th>321</th>\n",
       "      <td>0</td>\n",
       "      <td>1</td>\n",
       "      <td>0.5150</td>\n",
       "      <td>0.1982</td>\n",
       "      <td>0.3168</td>\n",
       "      <td>persuadable</td>\n",
       "    </tr>\n",
       "    <tr>\n",
       "      <th>85</th>\n",
       "      <td>0</td>\n",
       "      <td>1</td>\n",
       "      <td>0.4800</td>\n",
       "      <td>0.1501</td>\n",
       "      <td>0.3299</td>\n",
       "      <td>persuadable</td>\n",
       "    </tr>\n",
       "    <tr>\n",
       "      <th>366</th>\n",
       "      <td>0</td>\n",
       "      <td>0</td>\n",
       "      <td>0.4249</td>\n",
       "      <td>0.1101</td>\n",
       "      <td>0.3148</td>\n",
       "      <td>persuadable</td>\n",
       "    </tr>\n",
       "    <tr>\n",
       "      <th>706</th>\n",
       "      <td>0</td>\n",
       "      <td>0</td>\n",
       "      <td>0.4439</td>\n",
       "      <td>0.1448</td>\n",
       "      <td>0.2990</td>\n",
       "      <td>persuadable</td>\n",
       "    </tr>\n",
       "  </tbody>\n",
       "</table>\n",
       "</div>"
      ],
      "text/plain": [
       "     y  treatment  prob_T  prob_C  uplift         type\n",
       "111  1          0  0.5370  0.2093  0.3277  persuadable\n",
       "542  0          1  0.5657  0.2576  0.3081  persuadable\n",
       "623  0          1  0.5436  0.2396  0.3040  persuadable\n",
       "223  1          0  0.4566  0.1358  0.3208  persuadable\n",
       "143  0          1  0.5243  0.1993  0.3250  persuadable\n",
       "403  0          1  0.4748  0.1610  0.3138  persuadable\n",
       "791  0          0  0.4458  0.1493  0.2964  persuadable\n",
       "835  0          0  0.4305  0.1355  0.2949  persuadable\n",
       "576  1          0  0.4317  0.1255  0.3063  persuadable\n",
       "921  0          1  0.4317  0.1399  0.2918  persuadable\n",
       "562  0          1  0.4702  0.1632  0.3070  persuadable\n",
       "744  0          1  0.4059  0.1082  0.2976  persuadable\n",
       "965  0          0  0.5266  0.2365  0.2901  persuadable\n",
       "151  0          1  0.4844  0.1600  0.3244  persuadable\n",
       "192  0          0  0.4722  0.1498  0.3224  persuadable\n",
       "477  0          1  0.4780  0.1672  0.3107  persuadable\n",
       "321  0          1  0.5150  0.1982  0.3168  persuadable\n",
       "85   0          1  0.4800  0.1501  0.3299  persuadable\n",
       "366  0          0  0.4249  0.1101  0.3148  persuadable\n",
       "706  0          0  0.4439  0.1448  0.2990  persuadable"
      ]
     },
     "execution_count": 32,
     "metadata": {},
     "output_type": "execute_result"
    }
   ],
   "source": [
    "df_scores.head(1000).sample(20)"
   ]
  },
  {
   "cell_type": "markdown",
   "metadata": {},
   "source": [
    "---\n",
    "<br><br><br>\n",
    "\n",
    "\n",
    "## 10. QINI Curve"
   ]
  },
  {
   "cell_type": "markdown",
   "metadata": {},
   "source": [
    "Rank the individuals based on the uplift scores and calc cumulative uplift."
   ]
  },
  {
   "cell_type": "code",
   "execution_count": 33,
   "metadata": {},
   "outputs": [
    {
     "data": {
      "text/html": [
       "<div>\n",
       "<style scoped>\n",
       "    .dataframe tbody tr th:only-of-type {\n",
       "        vertical-align: middle;\n",
       "    }\n",
       "\n",
       "    .dataframe tbody tr th {\n",
       "        vertical-align: top;\n",
       "    }\n",
       "\n",
       "    .dataframe thead th {\n",
       "        text-align: right;\n",
       "    }\n",
       "</style>\n",
       "<table border=\"1\" class=\"dataframe\">\n",
       "  <thead>\n",
       "    <tr style=\"text-align: right;\">\n",
       "      <th></th>\n",
       "      <th>n</th>\n",
       "      <th>y</th>\n",
       "      <th>uplift</th>\n",
       "      <th>treatment</th>\n",
       "    </tr>\n",
       "  </thead>\n",
       "  <tbody>\n",
       "    <tr>\n",
       "      <th>0</th>\n",
       "      <td>0.000023</td>\n",
       "      <td>0</td>\n",
       "      <td>0.3388</td>\n",
       "      <td>1</td>\n",
       "    </tr>\n",
       "    <tr>\n",
       "      <th>1</th>\n",
       "      <td>0.000047</td>\n",
       "      <td>0</td>\n",
       "      <td>0.3387</td>\n",
       "      <td>1</td>\n",
       "    </tr>\n",
       "    <tr>\n",
       "      <th>2</th>\n",
       "      <td>0.000070</td>\n",
       "      <td>0</td>\n",
       "      <td>0.3385</td>\n",
       "      <td>1</td>\n",
       "    </tr>\n",
       "    <tr>\n",
       "      <th>3</th>\n",
       "      <td>0.000106</td>\n",
       "      <td>0</td>\n",
       "      <td>0.3384</td>\n",
       "      <td>0</td>\n",
       "    </tr>\n",
       "    <tr>\n",
       "      <th>4</th>\n",
       "      <td>0.000106</td>\n",
       "      <td>0</td>\n",
       "      <td>0.3384</td>\n",
       "      <td>0</td>\n",
       "    </tr>\n",
       "  </tbody>\n",
       "</table>\n",
       "</div>"
      ],
      "text/plain": [
       "          n  y  uplift  treatment\n",
       "0  0.000023  0  0.3388          1\n",
       "1  0.000047  0  0.3387          1\n",
       "2  0.000070  0  0.3385          1\n",
       "3  0.000106  0  0.3384          0\n",
       "4  0.000106  0  0.3384          0"
      ]
     },
     "execution_count": 33,
     "metadata": {},
     "output_type": "execute_result"
    }
   ],
   "source": [
    "def qini_rank(df_scores):\n",
    "    \"\"\"Rank the data by the uplift score\n",
    "    \"\"\"\n",
    "    # Creat new dataframe\n",
    "    ranked = pd.DataFrame({'n':[], 'y':[]})\n",
    "    ranked['y'] = df_scores['y']\n",
    "    ranked['uplift'] = df_scores['uplift']\n",
    "    ranked['treatment'] = df_scores['treatment']\n",
    "    \n",
    "    \n",
    "    # Add proportion\n",
    "    ranked['n'] = ranked.uplift.rank(pct=True, ascending=False)\n",
    "    # Data Ranking   \n",
    "    ranked = ranked.sort_values(by='n').reset_index(drop=True)\n",
    "    return ranked\n",
    "\n",
    "ranked = qini_rank(df_scores)\n",
    "ranked.head()"
   ]
  },
  {
   "cell_type": "code",
   "execution_count": 34,
   "metadata": {},
   "outputs": [
    {
     "name": "stdout",
     "output_type": "stream",
     "text": [
      "14208 28404\n",
      "42597    0.00125\n",
      "42598    0.00125\n",
      "42599    0.00125\n",
      "42600    0.00129\n",
      "42601    0.00129\n",
      "42602    0.00129\n",
      "42603    0.00129\n",
      "42604    0.00132\n",
      "42605    0.00132\n",
      "42606    0.00132\n",
      "42607    0.00132\n",
      "42608    0.00132\n",
      "42609    0.00132\n",
      "42610    0.00132\n",
      "42611    0.00132\n",
      "Name: uplift_cumu, dtype: float64\n",
      "0.00132\n"
     ]
    },
    {
     "data": {
      "text/html": [
       "<div>\n",
       "<style scoped>\n",
       "    .dataframe tbody tr th:only-of-type {\n",
       "        vertical-align: middle;\n",
       "    }\n",
       "\n",
       "    .dataframe tbody tr th {\n",
       "        vertical-align: top;\n",
       "    }\n",
       "\n",
       "    .dataframe thead th {\n",
       "        text-align: right;\n",
       "    }\n",
       "</style>\n",
       "<table border=\"1\" class=\"dataframe\">\n",
       "  <thead>\n",
       "    <tr style=\"text-align: right;\">\n",
       "      <th></th>\n",
       "      <th>n</th>\n",
       "      <th>uplift</th>\n",
       "      <th>y</th>\n",
       "      <th>treatment</th>\n",
       "      <th>uplift_cumu</th>\n",
       "      <th>model</th>\n",
       "    </tr>\n",
       "  </thead>\n",
       "  <tbody>\n",
       "    <tr>\n",
       "      <th>0</th>\n",
       "      <td>0.000000</td>\n",
       "      <td>0.0000</td>\n",
       "      <td>None</td>\n",
       "      <td>NaN</td>\n",
       "      <td>NaN</td>\n",
       "      <td>Random model</td>\n",
       "    </tr>\n",
       "    <tr>\n",
       "      <th>1</th>\n",
       "      <td>0.000000</td>\n",
       "      <td>0.0000</td>\n",
       "      <td>None</td>\n",
       "      <td>NaN</td>\n",
       "      <td>NaN</td>\n",
       "      <td>Uplift model</td>\n",
       "    </tr>\n",
       "    <tr>\n",
       "      <th>2</th>\n",
       "      <td>0.000023</td>\n",
       "      <td>0.3388</td>\n",
       "      <td>0</td>\n",
       "      <td>1.0</td>\n",
       "      <td>0.0</td>\n",
       "      <td>Random model</td>\n",
       "    </tr>\n",
       "    <tr>\n",
       "      <th>3</th>\n",
       "      <td>0.000023</td>\n",
       "      <td>0.3388</td>\n",
       "      <td>0</td>\n",
       "      <td>1.0</td>\n",
       "      <td>0.0</td>\n",
       "      <td>Uplift model</td>\n",
       "    </tr>\n",
       "    <tr>\n",
       "      <th>4</th>\n",
       "      <td>0.000047</td>\n",
       "      <td>0.3387</td>\n",
       "      <td>0</td>\n",
       "      <td>1.0</td>\n",
       "      <td>0.0</td>\n",
       "      <td>Random model</td>\n",
       "    </tr>\n",
       "    <tr>\n",
       "      <th>5</th>\n",
       "      <td>0.000047</td>\n",
       "      <td>0.3387</td>\n",
       "      <td>0</td>\n",
       "      <td>1.0</td>\n",
       "      <td>0.0</td>\n",
       "      <td>Uplift model</td>\n",
       "    </tr>\n",
       "    <tr>\n",
       "      <th>6</th>\n",
       "      <td>0.000070</td>\n",
       "      <td>0.3385</td>\n",
       "      <td>0</td>\n",
       "      <td>1.0</td>\n",
       "      <td>0.0</td>\n",
       "      <td>Random model</td>\n",
       "    </tr>\n",
       "    <tr>\n",
       "      <th>7</th>\n",
       "      <td>0.000070</td>\n",
       "      <td>0.3385</td>\n",
       "      <td>0</td>\n",
       "      <td>1.0</td>\n",
       "      <td>0.0</td>\n",
       "      <td>Uplift model</td>\n",
       "    </tr>\n",
       "    <tr>\n",
       "      <th>8</th>\n",
       "      <td>0.000106</td>\n",
       "      <td>0.3384</td>\n",
       "      <td>0</td>\n",
       "      <td>0.0</td>\n",
       "      <td>0.0</td>\n",
       "      <td>Random model</td>\n",
       "    </tr>\n",
       "    <tr>\n",
       "      <th>9</th>\n",
       "      <td>0.000106</td>\n",
       "      <td>0.3384</td>\n",
       "      <td>0</td>\n",
       "      <td>0.0</td>\n",
       "      <td>0.0</td>\n",
       "      <td>Random model</td>\n",
       "    </tr>\n",
       "    <tr>\n",
       "      <th>10</th>\n",
       "      <td>0.000106</td>\n",
       "      <td>0.3384</td>\n",
       "      <td>0</td>\n",
       "      <td>0.0</td>\n",
       "      <td>0.0</td>\n",
       "      <td>Uplift model</td>\n",
       "    </tr>\n",
       "    <tr>\n",
       "      <th>11</th>\n",
       "      <td>0.000106</td>\n",
       "      <td>0.3384</td>\n",
       "      <td>0</td>\n",
       "      <td>0.0</td>\n",
       "      <td>0.0</td>\n",
       "      <td>Uplift model</td>\n",
       "    </tr>\n",
       "    <tr>\n",
       "      <th>12</th>\n",
       "      <td>0.000141</td>\n",
       "      <td>0.3381</td>\n",
       "      <td>0</td>\n",
       "      <td>0.0</td>\n",
       "      <td>0.0</td>\n",
       "      <td>Random model</td>\n",
       "    </tr>\n",
       "    <tr>\n",
       "      <th>13</th>\n",
       "      <td>0.000141</td>\n",
       "      <td>0.3381</td>\n",
       "      <td>0</td>\n",
       "      <td>0.0</td>\n",
       "      <td>0.0</td>\n",
       "      <td>Uplift model</td>\n",
       "    </tr>\n",
       "  </tbody>\n",
       "</table>\n",
       "</div>"
      ],
      "text/plain": [
       "           n  uplift     y  treatment  uplift_cumu         model\n",
       "0   0.000000  0.0000  None        NaN          NaN  Random model\n",
       "1   0.000000  0.0000  None        NaN          NaN  Uplift model\n",
       "2   0.000023  0.3388     0        1.0          0.0  Random model\n",
       "3   0.000023  0.3388     0        1.0          0.0  Uplift model\n",
       "4   0.000047  0.3387     0        1.0          0.0  Random model\n",
       "5   0.000047  0.3387     0        1.0          0.0  Uplift model\n",
       "6   0.000070  0.3385     0        1.0          0.0  Random model\n",
       "7   0.000070  0.3385     0        1.0          0.0  Uplift model\n",
       "8   0.000106  0.3384     0        0.0          0.0  Random model\n",
       "9   0.000106  0.3384     0        0.0          0.0  Random model\n",
       "10  0.000106  0.3384     0        0.0          0.0  Uplift model\n",
       "11  0.000106  0.3384     0        0.0          0.0  Uplift model\n",
       "12  0.000141  0.3381     0        0.0          0.0  Random model\n",
       "13  0.000141  0.3381     0        0.0          0.0  Uplift model"
      ]
     },
     "execution_count": 34,
     "metadata": {},
     "output_type": "execute_result"
    }
   ],
   "source": [
    "def qini_eval(ranked):\n",
    "    \"\"\"\n",
    "    Evaluate the uplift value with the QINI criterion\n",
    "    \"\"\"\n",
    "    uplift_model, random_model = ranked.copy(), ranked.copy()\n",
    "    \n",
    "    # Using Treatment and Control Group to calculate the uplift (Incremental gain)\n",
    "    C, T = sum(ranked['treatment'] == 0), sum(ranked['treatment'] == 1)\n",
    "    # print(C, T)\n",
    "    ranked['cr'] = 0\n",
    "    ranked['tr'] = 0\n",
    "    ranked.loc[(ranked.y == 1) & (ranked.treatment==0),'cr'] = 1\n",
    "    ranked.loc[(ranked.y == 1) & (ranked.treatment==1),'tr'] = 1\n",
    "    ranked['cr/c'] = ranked.cr.cumsum() / C\n",
    "    ranked['tr/t'] = ranked.tr.cumsum() / T\n",
    "    \n",
    "    # Calculate and put the uplift and random value into dataframe\n",
    "    uplift_model['uplift_cumu'] = round(ranked['tr/t'] - ranked['cr/c'],5)\n",
    "    # print(uplift_model['uplift_cumu'].tail(15))\n",
    "    # print(uplift_model['uplift_cumu'].iloc[-1])\n",
    "    random_model['uplift_cumu'] = round(ranked['n'] * uplift_model['uplift_cumu'].iloc[-1],5)\n",
    "    \n",
    "    # Add first datapoint\n",
    "    q0 = pd.DataFrame({'n':0, 'uplift':0, 'y': None}, index =[0])\n",
    "    uplift_model = pd.concat([q0, uplift_model]).reset_index(drop = True)\n",
    "    random_model = pd.concat([q0, random_model]).reset_index(drop = True)  \n",
    "    \n",
    "    # Add model name & concat\n",
    "    uplift_model['model'] = 'Uplift model'\n",
    "    random_model['model'] = 'Random model'\n",
    "    merged = pd.concat([uplift_model, random_model]).sort_values(by=['n', 'model']).reset_index(drop = True)\n",
    "    return merged\n",
    "\n",
    "df_qini = qini_eval(ranked)\n",
    "df_qini.head(14)"
   ]
  },
  {
   "cell_type": "code",
   "execution_count": 35,
   "metadata": {},
   "outputs": [
    {
     "data": {
      "text/plain": [
       "count    42612.000000\n",
       "mean         0.000660\n",
       "std          0.000381\n",
       "min          0.000000\n",
       "25%          0.000330\n",
       "50%          0.000660\n",
       "75%          0.000990\n",
       "max          0.001320\n",
       "Name: uplift_cumu, dtype: float64"
      ]
     },
     "execution_count": 35,
     "metadata": {},
     "output_type": "execute_result"
    }
   ],
   "source": [
    "df_qini.loc[df_qini.model==\"Random model\", \"uplift_cumu\"].describe()"
   ]
  },
  {
   "cell_type": "markdown",
   "metadata": {},
   "source": [
    "__Plot__"
   ]
  },
  {
   "cell_type": "code",
   "execution_count": 36,
   "metadata": {},
   "outputs": [],
   "source": [
    "import seaborn as sns\n",
    "import matplotlib.pyplot as plt\n",
    "%matplotlib inline"
   ]
  },
  {
   "cell_type": "code",
   "execution_count": 37,
   "metadata": {},
   "outputs": [
    {
     "data": {
      "text/plain": [
       "<Axes: xlabel='Proportion targeted', ylabel='Uplift Cumulative'>"
      ]
     },
     "execution_count": 37,
     "metadata": {},
     "output_type": "execute_result"
    },
    {
     "data": {
      "image/png": "[encoded data removed]",
      "text/plain": [
       "<Figure size 640x480 with 1 Axes>"
      ]
     },
     "metadata": {},
     "output_type": "display_data"
    }
   ],
   "source": [
    "def qini_plot(df_qini):\n",
    "    \"\"\"\n",
    "    Plot the QINI\n",
    "    \"\"\"\n",
    "    # plot the data\n",
    "    ax = sns.lineplot(x='n', \n",
    "                      y='uplift_cumu', \n",
    "                      hue='model', \n",
    "                      data=df_qini,\n",
    "                      style='model', \n",
    "                      palette=['red','grey'])\n",
    "    # Plot settings\n",
    "    sns.set_style('whitegrid')\n",
    "    handles, labels = ax.get_legend_handles_labels()\n",
    "    plt.xlabel('Proportion targeted',fontsize=15)\n",
    "    plt.ylabel('Uplift Cumulative',fontsize=15)\n",
    "    plt.subplots_adjust(right=1)\n",
    "    plt.subplots_adjust(top=1)\n",
    "    plt.legend(fontsize=12)\n",
    "    ax.tick_params(labelsize=15)\n",
    "    ax.legend(handles=handles[1:], labels=labels[1:], loc='upper right')\n",
    "    return ax\n",
    "\n",
    "qini_plot(df_qini)"
   ]
  },
  {
   "cell_type": "markdown",
   "metadata": {},
   "source": [
    "---\n",
    "<br><br><br>\n",
    "\n",
    "## 11. Self Assessment\n",
    "\n",
    "1. Repeat the whole exercise using XGBoost model instead of Logistic regression and draw the QINI curve.\n",
    "2. Compare and contrast the results. Examine if there are instances where the logistic regression proposes as a 'Persuadable' but XGBoost proposes as 'Sleeping Dog'. Why could it be so? \n",
    "\n",
    "\n",
    "<br><br><br><br><br>\n",
    "---"
   ]
  }
 ],
 "metadata": {
  "kernelspec": {
   "display_name": "Python 3 (ipykernel)",
   "language": "python",
   "name": "python3"
  },
  "language_info": {
   "codemirror_mode": {
    "name": "ipython",
    "version": 3
   },
   "file_extension": ".py",
   "mimetype": "text/x-python",
   "name": "python",
   "nbconvert_exporter": "python",
   "pygments_lexer": "ipython3",
   "version": "3.11.4"
  }
 },
 "nbformat": 4,
 "nbformat_minor": 4
}
