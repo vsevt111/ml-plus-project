{
 "cells": [
  {
   "cell_type": "markdown",
   "id": "f0c3fadc",
   "metadata": {},
   "source": [
    "<div class=\"alert alert-info\" style=\"background-color:#006a79; color:white; padding:0px 10px; border-radius:5px;\"><h1 style='margin:10px 5px'>Text Generation using Language Models with LSTM</h1>\n",
    "</div>"
   ]
  },
  {
   "cell_type": "markdown",
   "id": "a7ea5bae",
   "metadata": {},
   "source": [
    "## Setup Environment and Import Data"
   ]
  },
  {
   "cell_type": "code",
   "execution_count": 1,
   "id": "0554dac3",
   "metadata": {},
   "outputs": [],
   "source": [
    "import warnings\n",
    "warnings.filterwarnings(\"ignore\")"
   ]
  },
  {
   "cell_type": "code",
   "execution_count": 2,
   "id": "2fd7a442",
   "metadata": {},
   "outputs": [],
   "source": [
    "import torch\n",
    "import torch.nn as nn\n",
    "import torch.optim as optim\n",
    "from torch.nn.utils import clip_grad_norm_\n",
    "from torch.utils.data import Dataset, DataLoader"
   ]
  },
  {
   "cell_type": "code",
   "execution_count": 3,
   "id": "9f6e0602",
   "metadata": {},
   "outputs": [],
   "source": [
    "import numpy as np\n",
    "import pandas as pd\n",
    "import matplotlib.pyplot as plt\n",
    "import random\n",
    "\n",
    "%matplotlib inline"
   ]
  },
  {
   "cell_type": "code",
   "execution_count": 4,
   "id": "3778dde2",
   "metadata": {},
   "outputs": [
    {
     "data": {
      "text/html": [
       "<style>.container { width:100% !important; }</style>"
      ],
      "text/plain": [
       "<IPython.core.display.HTML object>"
      ]
     },
     "metadata": {},
     "output_type": "display_data"
    }
   ],
   "source": [
    "#Formatting\n",
    "from IPython.display import display, HTML\n",
    "display(HTML(\"<style>.container { width:100% !important; }</style>\"))"
   ]
  },
  {
   "cell_type": "code",
   "execution_count": 5,
   "id": "282ec782",
   "metadata": {
    "scrolled": true
   },
   "outputs": [
    {
     "name": "stdout",
     "output_type": "stream",
     "text": [
      "mkdir: Checkpoint: File exists\r\n"
     ]
    }
   ],
   "source": [
    "#Create directory for model checkpoints\n",
    "!mkdir Checkpoint"
   ]
  },
  {
   "cell_type": "markdown",
   "id": "5a630d5b",
   "metadata": {},
   "source": [
    "## Helper Functions and Configuration"
   ]
  },
  {
   "cell_type": "markdown",
   "id": "cacc4691",
   "metadata": {},
   "source": [
    "<div class=\"alert alert-info\" style=\"background-color:#006a79; color:white; padding:0px 10px; border-radius:5px;\"><h3 style='margin:10px 5px'>Helper Classes</h3>\n",
    "</div>"
   ]
  },
  {
   "cell_type": "code",
   "execution_count": 6,
   "id": "bd611e8b",
   "metadata": {},
   "outputs": [],
   "source": [
    "class Dictionary(object):\n",
    "    def __init__(self):\n",
    "        self.word2idx = {}\n",
    "        self.idx2word = {}\n",
    "        self.idx = 0\n",
    "    \n",
    "    def add_word(self, word):\n",
    "        if not word in self.word2idx:\n",
    "            self.word2idx[word] = self.idx\n",
    "            self.idx2word[self.idx] = word\n",
    "            self.idx += 1\n",
    "    \n",
    "    def __len__(self):\n",
    "        return len(self.word2idx)"
   ]
  },
  {
   "cell_type": "code",
   "execution_count": 7,
   "id": "0e948a13",
   "metadata": {},
   "outputs": [],
   "source": [
    "class Corpus(object):\n",
    "    def __init__(self):\n",
    "        self.dictionary = Dictionary()\n",
    "\n",
    "    def get_data(self, path, batch_size=20):\n",
    "        # Add words to the dictionary\n",
    "        with open(path, 'r') as f:\n",
    "            tokens = 0\n",
    "            for line in f:\n",
    "                words = line.split() + ['<eos>']\n",
    "                tokens += len(words)\n",
    "                for word in words: \n",
    "                    self.dictionary.add_word(word)  \n",
    "        \n",
    "        # Tokenize the file content\n",
    "        ids = torch.LongTensor(tokens)\n",
    "        token = 0\n",
    "        with open(path, 'r') as f:\n",
    "            for line in f:\n",
    "                words = line.split() + ['<eos>']\n",
    "                for word in words:\n",
    "                    ids[token] = self.dictionary.word2idx[word]\n",
    "                    token += 1\n",
    "        num_batches = ids.size(0) // batch_size\n",
    "        ids = ids[:num_batches*batch_size]\n",
    "        return ids.view(batch_size, -1)"
   ]
  },
  {
   "cell_type": "markdown",
   "id": "5abdee2e",
   "metadata": {},
   "source": [
    "<div class=\"alert alert-info\" style=\"background-color:#006a79; color:white; padding:0px 10px; border-radius:5px;\"><h3 style='margin:10px 5px'>Set Device Configuration</h3>\n",
    "</div>"
   ]
  },
  {
   "cell_type": "code",
   "execution_count": 8,
   "id": "e6c8781a",
   "metadata": {},
   "outputs": [
    {
     "name": "stdout",
     "output_type": "stream",
     "text": [
      "cpu\n"
     ]
    }
   ],
   "source": [
    "device = torch.device('cuda' if torch.cuda.is_available() else 'cpu')\n",
    "print(device)"
   ]
  },
  {
   "cell_type": "markdown",
   "id": "fff96b03",
   "metadata": {},
   "source": [
    "## Training Model"
   ]
  },
  {
   "cell_type": "markdown",
   "id": "f4dce4e5",
   "metadata": {},
   "source": [
    "<div class=\"alert alert-info\" style=\"background-color:#006a79; color:white; padding:0px 10px; border-radius:5px;\"><h3 style='margin:10px 5px'>Define Architecture and Hyperparameters</h3>\n",
    "</div>"
   ]
  },
  {
   "cell_type": "code",
   "execution_count": 9,
   "id": "0d07b04e",
   "metadata": {},
   "outputs": [],
   "source": [
    "#Define Hyperparameters \n",
    "embed_size = 128\n",
    "hidden_size = 1024\n",
    "num_layers = 1\n",
    "num_samples = 1000     # number of words to be sampled\n",
    "seq_length = 30\n",
    "num_epochs = 5\n",
    "#Set batch size for defining variant of gradient descent; train_set_x.shape[0] is for batch gradient descent\n",
    "batch_size = 20\n",
    "learning_rate = 0.001"
   ]
  },
  {
   "cell_type": "markdown",
   "id": "7a496e8a",
   "metadata": {},
   "source": [
    "<div class=\"alert alert-info\" style=\"background-color:#006a79; color:white; padding:0px 10px; border-radius:5px;\"><h3 style='margin:10px 5px'>Load Dataset</h3>\n",
    "</div>"
   ]
  },
  {
   "cell_type": "code",
   "execution_count": 10,
   "id": "2305b412",
   "metadata": {},
   "outputs": [],
   "source": [
    "# Load \"Penn Treebank\" dataset\n",
    "corpus = Corpus()\n",
    "ids = corpus.get_data('input.txt', batch_size)\n",
    "vocab_size = len(corpus.dictionary)\n",
    "num_batches = ids.size(1) // seq_length"
   ]
  },
  {
   "cell_type": "code",
   "execution_count": 13,
   "id": "f16d32e0",
   "metadata": {},
   "outputs": [
    {
     "data": {
      "text/plain": [
       "torch.Size([20, 46479])"
      ]
     },
     "execution_count": 13,
     "metadata": {},
     "output_type": "execute_result"
    }
   ],
   "source": [
    "ids.shape"
   ]
  },
  {
   "cell_type": "code",
   "execution_count": 15,
   "id": "796275c7",
   "metadata": {},
   "outputs": [
    {
     "data": {
      "text/plain": [
       "10000"
      ]
     },
     "execution_count": 15,
     "metadata": {},
     "output_type": "execute_result"
    }
   ],
   "source": [
    "vocab_size"
   ]
  },
  {
   "cell_type": "code",
   "execution_count": 23,
   "id": "1bccb92b",
   "metadata": {},
   "outputs": [
    {
     "data": {
      "text/plain": [
       "46479"
      ]
     },
     "execution_count": 23,
     "metadata": {},
     "output_type": "execute_result"
    }
   ],
   "source": [
    "ids.size(1)"
   ]
  },
  {
   "cell_type": "markdown",
   "id": "89bee2af",
   "metadata": {},
   "source": [
    "<div class=\"alert alert-info\" style=\"background-color:#006a79; color:white; padding:0px 10px; border-radius:5px;\"><h3 style='margin:10px 5px'>Initialize Model</h3>\n",
    "</div>"
   ]
  },
  {
   "cell_type": "code",
   "execution_count": 16,
   "id": "8aaf67ca",
   "metadata": {},
   "outputs": [
    {
     "name": "stdout",
     "output_type": "stream",
     "text": [
      "RNN(\n",
      "  (embed): Embedding(10000, 128)\n",
      "  (lstm): LSTM(128, 1024, batch_first=True)\n",
      "  (linear): Linear(in_features=1024, out_features=10000, bias=True)\n",
      ")\n"
     ]
    }
   ],
   "source": [
    "class RNN(nn.Module):\n",
    "    def __init__(self, vocab_size, embed_size, hidden_size, num_layers):\n",
    "        super(RNN, self).__init__()\n",
    "        self.embed = nn.Embedding(vocab_size, embed_size)\n",
    "        self.lstm = nn.LSTM(embed_size, hidden_size, num_layers, batch_first=True)\n",
    "        self.linear = nn.Linear(hidden_size, vocab_size)\n",
    "        \n",
    "    def forward(self, x, h):\n",
    "        # Embed word ids to vectors\n",
    "        x = self.embed(x)\n",
    "        \n",
    "        # Forward propagate LSTM\n",
    "        out, (h, c) = self.lstm(x, h)\n",
    "        \n",
    "        # Reshape output to (batch_size*sequence_length, hidden_size)\n",
    "        out = out.reshape(out.size(0)*out.size(1), out.size(2))\n",
    "        \n",
    "        # Decode hidden states of all time steps\n",
    "        out = self.linear(out)\n",
    "        return out, (h, c)\n",
    "\n",
    "model = RNN(vocab_size, embed_size, hidden_size, num_layers).to(device)\n",
    "print(model)"
   ]
  },
  {
   "cell_type": "markdown",
   "id": "331f7258",
   "metadata": {},
   "source": [
    "<div class=\"alert alert-info\" style=\"background-color:#006a79; color:white; padding:0px 10px; border-radius:5px;\"><h3 style='margin:10px 5px'>Define Loss and Optimizer</h3>\n",
    "</div>"
   ]
  },
  {
   "cell_type": "code",
   "execution_count": 18,
   "id": "de67575d",
   "metadata": {},
   "outputs": [],
   "source": [
    "# Loss and Optimizer\n",
    "criterion = nn.CrossEntropyLoss() \n",
    "optimizer = torch.optim.Adam(model.parameters(), lr=learning_rate)"
   ]
  },
  {
   "cell_type": "code",
   "execution_count": 17,
   "id": "a04dad04",
   "metadata": {},
   "outputs": [],
   "source": [
    "# Truncated backpropagation\n",
    "def detach(states):\n",
    "    return [state.detach() for state in states] "
   ]
  },
  {
   "cell_type": "markdown",
   "id": "0a26e710",
   "metadata": {},
   "source": [
    "<div class=\"alert alert-info\" style=\"background-color:#006a79; color:white; padding:0px 10px; border-radius:5px;\"><h3 style='margin:10px 5px'>Model Training</h3>\n",
    "</div>"
   ]
  },
  {
   "cell_type": "code",
   "execution_count": 19,
   "id": "4f422fe3",
   "metadata": {
    "scrolled": true
   },
   "outputs": [
    {
     "name": "stdout",
     "output_type": "stream",
     "text": [
      "Epoch [1/5], Step[0/1549], Loss: 9.2120, Perplexity: 10016.66\n",
      "Epoch [1/5], Step[100/1549], Loss: 6.1751, Perplexity: 480.61\n",
      "Epoch [1/5], Step[200/1549], Loss: 6.0376, Perplexity: 418.90\n",
      "Epoch [1/5], Step[300/1549], Loss: 5.9679, Perplexity: 390.68\n",
      "Epoch [1/5], Step[400/1549], Loss: 5.8155, Perplexity: 335.47\n",
      "Epoch [1/5], Step[500/1549], Loss: 5.3087, Perplexity: 202.09\n",
      "Epoch [1/5], Step[600/1549], Loss: 5.2904, Perplexity: 198.42\n",
      "Epoch [1/5], Step[700/1549], Loss: 5.5378, Perplexity: 254.12\n",
      "Epoch [1/5], Step[800/1549], Loss: 5.3092, Perplexity: 202.19\n",
      "Epoch [1/5], Step[900/1549], Loss: 5.1912, Perplexity: 179.68\n",
      "Epoch [1/5], Step[1000/1549], Loss: 5.2694, Perplexity: 194.31\n",
      "Epoch [1/5], Step[1100/1549], Loss: 5.4702, Perplexity: 237.50\n",
      "Epoch [1/5], Step[1200/1549], Loss: 5.3017, Perplexity: 200.67\n",
      "Epoch [1/5], Step[1300/1549], Loss: 5.2298, Perplexity: 186.76\n",
      "Epoch [1/5], Step[1400/1549], Loss: 4.9963, Perplexity: 147.86\n",
      "Epoch [1/5], Step[1500/1549], Loss: 5.2970, Perplexity: 199.74\n",
      "Epoch [2/5], Step[0/1549], Loss: 5.5553, Perplexity: 258.61\n",
      "Epoch [2/5], Step[100/1549], Loss: 4.7271, Perplexity: 112.96\n",
      "Epoch [2/5], Step[200/1549], Loss: 4.8286, Perplexity: 125.04\n",
      "Epoch [2/5], Step[300/1549], Loss: 4.8855, Perplexity: 132.36\n",
      "Epoch [2/5], Step[400/1549], Loss: 4.7820, Perplexity: 119.34\n",
      "Epoch [2/5], Step[500/1549], Loss: 4.3000, Perplexity: 73.70\n",
      "Epoch [2/5], Step[600/1549], Loss: 4.5945, Perplexity: 98.94\n",
      "Epoch [2/5], Step[700/1549], Loss: 4.6027, Perplexity: 99.75\n",
      "Epoch [2/5], Step[800/1549], Loss: 4.5690, Perplexity: 96.45\n",
      "Epoch [2/5], Step[900/1549], Loss: 4.3842, Perplexity: 80.18\n",
      "Epoch [2/5], Step[1000/1549], Loss: 4.5305, Perplexity: 92.81\n",
      "Epoch [2/5], Step[1100/1549], Loss: 4.7710, Perplexity: 118.03\n",
      "Epoch [2/5], Step[1200/1549], Loss: 4.6668, Perplexity: 106.36\n",
      "Epoch [2/5], Step[1300/1549], Loss: 4.4481, Perplexity: 85.46\n",
      "Epoch [2/5], Step[1400/1549], Loss: 4.1669, Perplexity: 64.51\n",
      "Epoch [2/5], Step[1500/1549], Loss: 4.5138, Perplexity: 91.27\n",
      "Epoch [3/5], Step[0/1549], Loss: 4.6813, Perplexity: 107.91\n",
      "Epoch [3/5], Step[100/1549], Loss: 4.0689, Perplexity: 58.49\n",
      "Epoch [3/5], Step[200/1549], Loss: 4.2127, Perplexity: 67.54\n",
      "Epoch [3/5], Step[300/1549], Loss: 4.2051, Perplexity: 67.03\n",
      "Epoch [3/5], Step[400/1549], Loss: 4.1521, Perplexity: 63.57\n",
      "Epoch [3/5], Step[500/1549], Loss: 3.6186, Perplexity: 37.29\n",
      "Epoch [3/5], Step[600/1549], Loss: 4.0885, Perplexity: 59.65\n",
      "Epoch [3/5], Step[700/1549], Loss: 3.9314, Perplexity: 50.98\n",
      "Epoch [3/5], Step[800/1549], Loss: 4.0052, Perplexity: 54.88\n",
      "Epoch [3/5], Step[900/1549], Loss: 3.7755, Perplexity: 43.62\n",
      "Epoch [3/5], Step[1000/1549], Loss: 3.9324, Perplexity: 51.03\n",
      "Epoch [3/5], Step[1100/1549], Loss: 4.1081, Perplexity: 60.83\n",
      "Epoch [3/5], Step[1200/1549], Loss: 4.0474, Perplexity: 57.25\n",
      "Epoch [3/5], Step[1300/1549], Loss: 3.8013, Perplexity: 44.76\n",
      "Epoch [3/5], Step[1400/1549], Loss: 3.4813, Perplexity: 32.50\n",
      "Epoch [3/5], Step[1500/1549], Loss: 3.8446, Perplexity: 46.74\n",
      "Epoch [4/5], Step[0/1549], Loss: 4.2652, Perplexity: 71.18\n",
      "Epoch [4/5], Step[100/1549], Loss: 3.5733, Perplexity: 35.63\n",
      "Epoch [4/5], Step[200/1549], Loss: 3.7470, Perplexity: 42.39\n",
      "Epoch [4/5], Step[300/1549], Loss: 3.6610, Perplexity: 38.90\n",
      "Epoch [4/5], Step[400/1549], Loss: 3.6429, Perplexity: 38.20\n",
      "Epoch [4/5], Step[500/1549], Loss: 3.0960, Perplexity: 22.11\n",
      "Epoch [4/5], Step[600/1549], Loss: 3.6512, Perplexity: 38.52\n",
      "Epoch [4/5], Step[700/1549], Loss: 3.4474, Perplexity: 31.42\n",
      "Epoch [4/5], Step[800/1549], Loss: 3.5008, Perplexity: 33.14\n",
      "Epoch [4/5], Step[900/1549], Loss: 3.2796, Perplexity: 26.57\n",
      "Epoch [4/5], Step[1000/1549], Loss: 3.4133, Perplexity: 30.36\n",
      "Epoch [4/5], Step[1100/1549], Loss: 3.5512, Perplexity: 34.85\n",
      "Epoch [4/5], Step[1200/1549], Loss: 3.5242, Perplexity: 33.93\n",
      "Epoch [4/5], Step[1300/1549], Loss: 3.2869, Perplexity: 26.76\n",
      "Epoch [4/5], Step[1400/1549], Loss: 2.9207, Perplexity: 18.55\n",
      "Epoch [4/5], Step[1500/1549], Loss: 3.3033, Perplexity: 27.20\n",
      "Epoch [5/5], Step[0/1549], Loss: 3.6065, Perplexity: 36.84\n",
      "Epoch [5/5], Step[100/1549], Loss: 3.1018, Perplexity: 22.24\n",
      "Epoch [5/5], Step[200/1549], Loss: 3.4021, Perplexity: 30.03\n",
      "Epoch [5/5], Step[300/1549], Loss: 3.2630, Perplexity: 26.13\n",
      "Epoch [5/5], Step[400/1549], Loss: 3.2058, Perplexity: 24.67\n",
      "Epoch [5/5], Step[500/1549], Loss: 2.6937, Perplexity: 14.79\n",
      "Epoch [5/5], Step[600/1549], Loss: 3.2966, Perplexity: 27.02\n",
      "Epoch [5/5], Step[700/1549], Loss: 3.0067, Perplexity: 20.22\n",
      "Epoch [5/5], Step[800/1549], Loss: 3.1342, Perplexity: 22.97\n",
      "Epoch [5/5], Step[900/1549], Loss: 2.8576, Perplexity: 17.42\n",
      "Epoch [5/5], Step[1000/1549], Loss: 3.0102, Perplexity: 20.29\n",
      "Epoch [5/5], Step[1100/1549], Loss: 3.0775, Perplexity: 21.70\n",
      "Epoch [5/5], Step[1200/1549], Loss: 3.1122, Perplexity: 22.47\n",
      "Epoch [5/5], Step[1300/1549], Loss: 2.8389, Perplexity: 17.10\n",
      "Epoch [5/5], Step[1400/1549], Loss: 2.4854, Perplexity: 12.01\n",
      "Epoch [5/5], Step[1500/1549], Loss: 2.8813, Perplexity: 17.84\n"
     ]
    }
   ],
   "source": [
    "# Train the model\n",
    "for epoch in range(num_epochs):\n",
    "    # Set initial hidden and cell states\n",
    "    states = (torch.zeros(num_layers, batch_size, hidden_size).to(device),\n",
    "              torch.zeros(num_layers, batch_size, hidden_size).to(device))\n",
    "    \n",
    "    for i in range(0, ids.size(1) - seq_length, seq_length):\n",
    "        # Get mini-batch inputs and targets\n",
    "        inputs = ids[:, i:i+seq_length].to(device)\n",
    "        targets = ids[:, (i+1):(i+1)+seq_length].to(device)\n",
    "        \n",
    "        # Forward pass\n",
    "        states = detach(states)\n",
    "        outputs, states = model(inputs, states)\n",
    "        loss = criterion(outputs, targets.reshape(-1))\n",
    "        \n",
    "        # Backward and optimize\n",
    "        optimizer.zero_grad()\n",
    "        loss.backward()\n",
    "        clip_grad_norm_(model.parameters(), 0.5)\n",
    "        optimizer.step()\n",
    "\n",
    "        step = (i+1) // seq_length\n",
    "        if step % 100 == 0:\n",
    "            print ('Epoch [{}/{}], Step[{}/{}], Loss: {:.4f}, Perplexity: {:5.2f}'\n",
    "                   .format(epoch+1, num_epochs, step, num_batches, loss.item(), np.exp(loss.item())))\n",
    "#Perplexity is an intrinsic measurement of how well a probability model predicts a sample"
   ]
  },
  {
   "cell_type": "code",
   "execution_count": 20,
   "id": "d8b6028a",
   "metadata": {
    "scrolled": false
   },
   "outputs": [
    {
     "name": "stdout",
     "output_type": "stream",
     "text": [
      "Sampled [100/1000] words and save to sample.txt\n",
      "Sampled [200/1000] words and save to sample.txt\n",
      "Sampled [300/1000] words and save to sample.txt\n",
      "Sampled [400/1000] words and save to sample.txt\n",
      "Sampled [500/1000] words and save to sample.txt\n",
      "Sampled [600/1000] words and save to sample.txt\n",
      "Sampled [700/1000] words and save to sample.txt\n",
      "Sampled [800/1000] words and save to sample.txt\n",
      "Sampled [900/1000] words and save to sample.txt\n",
      "Sampled [1000/1000] words and save to sample.txt\n"
     ]
    }
   ],
   "source": [
    "# Test the model\n",
    "with torch.no_grad():\n",
    "    with open('sample.txt', 'w') as f:\n",
    "        # Set intial hidden ane cell states\n",
    "        state = (torch.zeros(num_layers, 1, hidden_size).to(device),\n",
    "                 torch.zeros(num_layers, 1, hidden_size).to(device))\n",
    "\n",
    "        # Select one word id randomly\n",
    "        prob = torch.ones(vocab_size)\n",
    "        input = torch.multinomial(prob, num_samples=1).unsqueeze(1).to(device)\n",
    "\n",
    "        for i in range(num_samples):\n",
    "            # Forward propagate RNN \n",
    "            output, state = model(input, state)\n",
    "\n",
    "            # Sample a word id\n",
    "            prob = output.exp()\n",
    "            word_id = torch.multinomial(prob, num_samples=1).item()\n",
    "\n",
    "            # Fill input with sampled word id for the next time step\n",
    "            input.fill_(word_id)\n",
    "\n",
    "            # File write\n",
    "            word = corpus.dictionary.idx2word[word_id]\n",
    "            word = '\\n' if word == '<eos>' else word + ' '\n",
    "            f.write(word)\n",
    "\n",
    "            if (i+1) % 100 == 0:\n",
    "                print('Sampled [{}/{}] words and save to {}'.format(i+1, num_samples, 'sample.txt'))"
   ]
  },
  {
   "cell_type": "markdown",
   "id": "717085ea",
   "metadata": {},
   "source": [
    "<div class=\"alert alert-info\" style=\"background-color:#006a79; color:white; padding:0px 10px; border-radius:5px;\"><h3 style='margin:10px 5px'>Save Model</h3>\n",
    "</div>"
   ]
  },
  {
   "cell_type": "code",
   "execution_count": 21,
   "id": "36616ebd",
   "metadata": {},
   "outputs": [],
   "source": [
    "# Save the model checkpoint\n",
    "torch.save(model.state_dict(), 'Checkpoint/RNN_Model.ckpt')"
   ]
  }
 ],
 "metadata": {
  "kernelspec": {
   "display_name": "Python 3",
   "language": "python",
   "name": "python3"
  },
  "language_info": {
   "codemirror_mode": {
    "name": "ipython",
    "version": 3
   },
   "file_extension": ".py",
   "mimetype": "text/x-python",
   "name": "python",
   "nbconvert_exporter": "python",
   "pygments_lexer": "ipython3",
   "version": "3.8.3"
  }
 },
 "nbformat": 4,
 "nbformat_minor": 5
}
