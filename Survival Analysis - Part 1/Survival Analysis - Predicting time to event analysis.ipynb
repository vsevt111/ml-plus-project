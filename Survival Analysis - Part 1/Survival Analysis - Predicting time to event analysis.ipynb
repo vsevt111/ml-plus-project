{
 "cells": [
  {
   "cell_type": "markdown",
   "id": "d06a5111-5e4d-4343-a45e-7478c02acf4f",
   "metadata": {},
   "source": [
    "# Survival Analysis - Predicting Time to Event \n",
    "\n",
    "Let's understand the intuition behind survival analysis concepts and how to implement in detail on real world applications. \n"
   ]
  },
  {
   "cell_type": "markdown",
   "id": "f183da0e-a9ae-4ac6-bb7c-c238a41bf9bb",
   "metadata": {},
   "source": [
    "## 1. What is Survival Analysis\n",
    "\n",
    "Survival analysis tries to answer the question: _\"How long would it be before a given event occurs?\"._\n",
    "\n",
    "Survival analysis is a branch of statistics that measures the time to occurence of an event. While the term 'Survival Analysis' is common in clinical research, where the intents is in predicting the the survival durations of patients. \n",
    "\n",
    "This same idea goes by multiple names, such as __'reliability analysis'__ in engineering and __'duration analysis'__ in economics. We simply refer this to as __'Time to Event'__ analysis.\n",
    "\n",
    "However, we are not just interested in a point estimate of 'when' the event would occur. Survival analysis concerns with the estimation of the survival curves and the hazard functions over the course of time for the participants concerned. \n",
    "\n",
    "__What we will learn?__\n",
    "\n",
    "In this, we will try to build upon the ideas from scratch, first understanding the intuition and meaning behind the terms, then, implement them from scratch without using any survival analysis related libraries. Then we will implement the same using the `lifelines` or `scikit-survival` packages, followed by more advanced techniques and evaluating the models."
   ]
  },
  {
   "cell_type": "markdown",
   "id": "dffad81e-e466-454f-af29-48bc37fc0e91",
   "metadata": {},
   "source": [
    "## 2. Real World Applications of Survival Analysis\n",
    "\n",
    "There are so many potential applications of Survival analysis in the real world. Only that, this technique is not so popular / 'difficult' to understand that it doesn't get use so widely.\n",
    "\n",
    "Today, we will understand the entire concept very clearly. Some of the applications of Survival analysis are as follows:\n",
    "\n",
    "#### Use cases\n",
    "\n",
    "1. __Predictive maintenance__: How long will the machine last?\n",
    "2. __Customer Analytics__: Churn prediction, Time to come for service \n",
    "3. __Marketing Analytics__: Time to conversion\n",
    "4. __Actuarial Analysis__: Time to death (for determining insurance premiums)\n",
    "\n",
    "#### Example problems\n",
    "\n",
    "- How long before a piece of equipment needs maintenance?\n",
    "- How long before a customer bring his vehicle for service?\n",
    "- How long before a lead will get converted to a paying customer?\n",
    "- How long before a customer will unsubscribe/subscribe?\n",
    "- How long before a patient vacate the bed? \n",
    "- How long before a client pays back debt?\n",
    "- How long before a customer service issue is resolved?\n",
    "- How long before a client makes another purchase?\n",
    "- How long before a device breaks down?\n",
    "- How long before an employee quits?\n",
    "\n",
    "#### What questions can survival analysis answer?\n",
    "\n",
    "- Can a different approach / treatment improve survival time?\n",
    "- Can we predict the survival time of a person / device?\n",
    "- Can we predict the chance of death at a certain time?\n",
    "\n",
    "#### Survival Analysis Objectives and Techniques\n",
    "\n",
    "- Identify survival times: Kaplan Meier Estimator\n",
    "- Comparing survival times of groups: Log Rank test\n",
    "- Describe effect of features on survival: Cox-Proportional Hazards model"
   ]
  },
  {
   "cell_type": "markdown",
   "id": "d6e58854-e362-4603-b33e-45daa90af487",
   "metadata": {},
   "source": [
    "## 2.a When to use Survival Analysis?\n",
    "\n",
    "Let's say you have the following data and you want to predict if a given machine will fail at a certain time."
   ]
  },
  {
   "cell_type": "markdown",
   "id": "a045b417-6994-4610-b34f-83679412e43e",
   "metadata": {},
   "source": [
    "| Cost   | Years in Service | No.of Repairs | In Charge | Failed |\r\n",
    "|--------|------------------|---------------|-----------|--------|\r\n",
    "| 75000  | 2                | 1             | Michael   | 0      |\r\n",
    "| 105000 | 4                | 2             | Ramany    | 0      |\r\n",
    "| 40000  | 2                | 0             | Abdul     | 1      |"
   ]
  },
  {
   "cell_type": "markdown",
   "id": "a5a4c562-eceb-4768-93bd-10339444aabb",
   "metadata": {},
   "source": [
    "\n",
    "Tendency is to treat this as a classification problem and try to predict if a machine will fail or not.\n",
    "\n",
    "But, if the classifier predicts if a machine will fail, how can we know 'when' is it likely to fail? what are the chances that the machine will fail at a given moment in time?\n",
    "\n",
    "Classifiers don't answer these questions. \n",
    "\n",
    "Using survival analysis, we can tell the probability of the machine failing as a function of time. We can also tell if a given precautionary measure worked in improving the survival or not, so that you can act on it and potentially know if something worked. \n",
    "\n",
    "So, it will be beneficial to pursue Survival analysis for such problems than go for classification problems.\n",
    "\n",
    "<img src=\"survival_curve.png\" alt=\"Kaplan Meier\" style=\"width: 400px;margin: auto\"/>\n",
    "Source: sthda.com"
   ]
  },
  {
   "cell_type": "markdown",
   "id": "480f9384-5b57-477a-ad53-909e8d159ae8",
   "metadata": {},
   "source": [
    "## 3. Math Intuition - Survival and Hazard function"
   ]
  },
  {
   "cell_type": "markdown",
   "id": "bfffd282-de4a-4852-953c-02f402ab4d8d",
   "metadata": {},
   "source": [
    "__The Event__\n",
    "\n",
    "In order to understand survival, we need to first know what is an 'event'.\n",
    "\n",
    "The Event is an 'event' that happens to the item / person under study. This is a clear binary occurrence without any ambiguitiy about whether the event occurred or not. For example: Death/recover, subscribe/unsubscribe, quit/join etc. Whatever the event is there is a clear definition of what can be counted as an event.\n",
    "\n",
    "In survival analysis we are not only interested to know 'when' this event could occur, but also the probability of an event occurring at a certain time and what proportion of the population might experience it. We also want to know what factors contributed to it and it any given factor made a significant difference."
   ]
  },
  {
   "cell_type": "markdown",
   "id": "1693a5fd-262e-4fd1-8ad9-696e5898d5bb",
   "metadata": {},
   "source": [
    "#### Survival and Hazard Functions\n",
    "\n",
    "The survival and hazard functions are like (not exactly) opposites of each other. \n",
    "\n",
    "__Survival Function__\n",
    "\n",
    "First, let's see __survival function__.\n",
    "\n",
    "Survival funtion S(t) indicates the probability of an object's survival after a certain time 't'.\n",
    "\n",
    "The survival function is the probability that the event occurs after time 't'\n",
    "\n",
    "$$S(t) = P(T > t)$$\n",
    "\n",
    "Where, \n",
    "\n",
    "    S(t) : Probability that the event happens after time 't'.\n",
    "    T    : Time of occurrence\n",
    "    t    : Observation time\n",
    "\n",
    "\n",
    "__Hazard Function__\n",
    "\n",
    "Now, __Hazard function__ is the probability that an event happens at some time 't' given it has survived up to that time.\n",
    "\n",
    "It is understood as: At any given time 't', out of all the items that survived till time 't', how many encountered the event AT 't'.\n",
    "\n",
    "Computationally it is: the ratio of number of items experiencing the event at time 't' divided by the number of items survived till time 't'.\n",
    "\n",
    "$$h(t) = \\frac{f(t)}{S(t)}$$\n",
    "\n",
    "\n",
    "__The Kaplan Meier Estimator__\n",
    "\n",
    "The Kaplan Meier estimator is a popular non-parametric model to estimate the survival function of time-to-event data.\n"
   ]
  },
  {
   "cell_type": "markdown",
   "id": "cd5a0311-69ff-4d10-bab2-5ca39a0856ee",
   "metadata": {},
   "source": [
    "<img src=\"km_estimator_formula.png\" alt=\"Kaplan Meier\" style=\"width: 250px;margin: auto\"/>"
   ]
  },
  {
   "cell_type": "markdown",
   "id": "cd656f93-fc4b-4235-a66d-1e37953e85ba",
   "metadata": {},
   "source": [
    "Where,\n",
    "\n",
    "    ti: Time duration\n",
    "    di: number of events occurring AT time 't'\n",
    "    ni: number of survivors available UP TO time 't'\n",
    "\n",
    "Notice in above formula, $\\frac{di}{ni}$ is nothing but the Hazard function.\n",
    "\n",
    "We will later use this formula to back-calculate survival function from hazard function.\n",
    "\n"
   ]
  },
  {
   "cell_type": "markdown",
   "id": "6fcdbe30-0007-47b6-b6c3-878e401e4ed5",
   "metadata": {},
   "source": [
    "#### "
   ]
  },
  {
   "cell_type": "markdown",
   "id": "0b1ff6dd-6cab-4fc0-b170-2c7f31043cfc",
   "metadata": {},
   "source": [
    "## 4. Types of Censored Data"
   ]
  },
  {
   "cell_type": "markdown",
   "id": "23409446-5aa9-4450-8eef-394c0503eba8",
   "metadata": {},
   "source": [
    "While collecting data for survival analysis, it might not be feasible to observe the 'event' on ALL observations. For example: when studying time to failure of equipments, from a sample of equipments under study, only some of the equipments would have actually failed during the duration of study.\n",
    "\n",
    "The failure occurrence of remaining equipments, though will happen in the future, may not have been captured, yet.\n",
    "\n",
    "Such data where the start or end or both is not observed is considered as 'censored' data. In survival analysis, we typically include both types: complete and censored.\n",
    "\n",
    "Accordingly, censoring is of 3 types:\n",
    "\n",
    "1. __Right-censored__    : Starting point in known, ending point is not. Ex: Certain machines have not failed yet.\n",
    "\n",
    "<img src=\"right_censored.png\" alt=\"Kaplan Meier\" style=\"width: 250px;margin: auto\"/>\n",
    "\n",
    "2. __Left-censored__     : Starting point in unknown, ending point is known. Ex: Time of infection not known.\n",
    "\n",
    "<img src=\"left_censored.png\" alt=\"Kaplan Meier\" style=\"width: 250px;margin: auto\"/>\n",
    "\n",
    "\n",
    "3. __Interval-censored__ : Both starting and ending not known. Ex: We only know a patient got chickenpox but the exact dates are unknown.\n",
    "\n",
    "<img src=\"interval_censored.png\" alt=\"Kaplan Meier\" style=\"width: 250px;margin: auto\"/>"
   ]
  },
  {
   "cell_type": "markdown",
   "id": "f68cb7dd-140e-4cfc-a82c-bcc2c97ca1cc",
   "metadata": {},
   "source": [
    "# SECTION 2: Computing Survival and Hazard functions from scratch"
   ]
  },
  {
   "cell_type": "markdown",
   "id": "2e21ef58-bc6e-4bbe-97b9-191fccea5fd6",
   "metadata": {},
   "source": [
    "The following example is based on the [notebook](https://nbviewer.org/github/AllenDowney/SurvivalAnalysisPython/blob/master/soln/01_light_bulb.ipynb) by Dr. Allen Downey."
   ]
  },
  {
   "cell_type": "markdown",
   "id": "fcb90bb2-58a4-42a1-9ca6-510e4c799964",
   "metadata": {},
   "source": [
    "## 5. Import the dataset"
   ]
  },
  {
   "cell_type": "markdown",
   "id": "37b68495-6143-42ac-8cbc-4a0ccb78e6f5",
   "metadata": {},
   "source": [
    "__Light bulb lifetimes__\n",
    "\n",
    "__Dataset Info:__\n",
    "\n",
    "V.J. Menon and D.C. Agrawal,  Renewal Rate of Filament Lamps\n",
    "\n",
    "Description:\n",
    "\n",
    "An assembly of 50 new Philips (India) lamps with the \n",
    "rating 40 W, 220 V (AC) was taken and installed in the horizontal \n",
    "orientation and uniformly distributed over a lab area 11 m by 7 m. \n",
    "\n",
    "The assembly was monitored at regular intervals of 12 h to\n",
    "look for failures. The instants of recorded failures were\n",
    "called t‘ and a total of 32 data points were obtained such\n",
    "that even the last bulb failed. \n",
    "\n",
    "Variables:\n",
    "\n",
    "- i - observation number\n",
    "- h - time in hours since experiment start\n",
    "- f - number of failed lamps at particular time h\n",
    "- K - number of surviving lamps  at particular time h"
   ]
  },
  {
   "cell_type": "markdown",
   "id": "076c4709-e1b0-4bc6-836f-0e7ab7d49e5a",
   "metadata": {},
   "source": [
    "__Import packages__"
   ]
  },
  {
   "cell_type": "code",
   "execution_count": 10,
   "id": "6f4e2173-9cb7-4a37-905f-637c4f8614df",
   "metadata": {},
   "outputs": [],
   "source": [
    "import pandas as pd\n",
    "import numpy as np\n",
    "import matplotlib.pyplot as plt\n",
    "%matplotlib inline"
   ]
  },
  {
   "cell_type": "code",
   "execution_count": 12,
   "id": "6a452480-6414-41ef-a5df-1aae551fd3f2",
   "metadata": {},
   "outputs": [
    {
     "data": {
      "text/html": [
       "<div>\n",
       "<style scoped>\n",
       "    .dataframe tbody tr th:only-of-type {\n",
       "        vertical-align: middle;\n",
       "    }\n",
       "\n",
       "    .dataframe tbody tr th {\n",
       "        vertical-align: top;\n",
       "    }\n",
       "\n",
       "    .dataframe thead th {\n",
       "        text-align: right;\n",
       "    }\n",
       "</style>\n",
       "<table border=\"1\" class=\"dataframe\">\n",
       "  <thead>\n",
       "    <tr style=\"text-align: right;\">\n",
       "      <th></th>\n",
       "      <th>h</th>\n",
       "      <th>f</th>\n",
       "      <th>K</th>\n",
       "    </tr>\n",
       "    <tr>\n",
       "      <th>i</th>\n",
       "      <th></th>\n",
       "      <th></th>\n",
       "      <th></th>\n",
       "    </tr>\n",
       "  </thead>\n",
       "  <tbody>\n",
       "    <tr>\n",
       "      <th>0</th>\n",
       "      <td>0</td>\n",
       "      <td>0</td>\n",
       "      <td>50</td>\n",
       "    </tr>\n",
       "    <tr>\n",
       "      <th>1</th>\n",
       "      <td>840</td>\n",
       "      <td>2</td>\n",
       "      <td>48</td>\n",
       "    </tr>\n",
       "    <tr>\n",
       "      <th>2</th>\n",
       "      <td>852</td>\n",
       "      <td>1</td>\n",
       "      <td>47</td>\n",
       "    </tr>\n",
       "    <tr>\n",
       "      <th>3</th>\n",
       "      <td>936</td>\n",
       "      <td>1</td>\n",
       "      <td>46</td>\n",
       "    </tr>\n",
       "    <tr>\n",
       "      <th>4</th>\n",
       "      <td>960</td>\n",
       "      <td>1</td>\n",
       "      <td>45</td>\n",
       "    </tr>\n",
       "  </tbody>\n",
       "</table>\n",
       "</div>"
      ],
      "text/plain": [
       "     h  f   K\n",
       "i            \n",
       "0    0  0  50\n",
       "1  840  2  48\n",
       "2  852  1  47\n",
       "3  936  1  46\n",
       "4  960  1  45"
      ]
     },
     "execution_count": 12,
     "metadata": {},
     "output_type": "execute_result"
    }
   ],
   "source": [
    "datafile = 'data/lightbulb.csv'\n",
    "df = pd.read_csv(datafile, index_col=0)\n",
    "df.head()"
   ]
  },
  {
   "cell_type": "markdown",
   "id": "d6bc6e0e-637a-4c90-a269-9f153cf29fbb",
   "metadata": {},
   "source": [
    "## 6. Probability Mass Function (PMF)\n",
    "\n",
    "This dataset is complete in the sense that the experiment ran until all light bulbs failed, so the lifetime for every bulb is known. So we can use the data to estimate the probability mass function (PMF) of lifetimes.\r\n",
    "\r\n",
    "To represent a PMF, I'll use a Pandas Series with the lifetimes (column h) as the index and the number of failures (column f) as the values."
   ]
  },
  {
   "cell_type": "code",
   "execution_count": 13,
   "id": "5897e44d-2c92-465a-85f1-2ee5f6ae3849",
   "metadata": {},
   "outputs": [
    {
     "data": {
      "text/plain": [
       "t\n",
       "0      0\n",
       "840    2\n",
       "852    1\n",
       "936    1\n",
       "960    1\n",
       "dtype: int64"
      ]
     },
     "execution_count": 13,
     "metadata": {},
     "output_type": "execute_result"
    }
   ],
   "source": [
    "pmf = pd.Series(df['f'].values, index=df['h'])\n",
    "pmf.index.name = 't'\n",
    "pmf.head()"
   ]
  },
  {
   "cell_type": "markdown",
   "id": "022ec77c-27ba-4332-b2d2-5349f3a6f365",
   "metadata": {},
   "source": [
    "To normalize the PMF, we divide through by the total number of lightbulbs."
   ]
  },
  {
   "cell_type": "code",
   "execution_count": 14,
   "id": "5a944bad-6d9f-40c8-81c1-43ba75081eb3",
   "metadata": {},
   "outputs": [
    {
     "data": {
      "text/plain": [
       "t\n",
       "0      0.00\n",
       "840    0.04\n",
       "852    0.02\n",
       "936    0.02\n",
       "960    0.02\n",
       "dtype: float64"
      ]
     },
     "execution_count": 14,
     "metadata": {},
     "output_type": "execute_result"
    }
   ],
   "source": [
    "pmf /= pmf.sum()\n",
    "pmf.head()"
   ]
  },
  {
   "cell_type": "markdown",
   "id": "4c7a0486-b51e-410e-aa84-5133dd7a69ef",
   "metadata": {},
   "source": [
    "For a given lifetime, t, the PMF contains the fraction of lifetimes equal to t. For example, we can compute the fraction of light bulbs that lasted 840 hours."
   ]
  },
  {
   "cell_type": "code",
   "execution_count": 15,
   "id": "82387174-abb5-4570-8d50-33d9d68ea663",
   "metadata": {},
   "outputs": [
    {
     "data": {
      "text/plain": [
       "0.04"
      ]
     },
     "execution_count": 15,
     "metadata": {},
     "output_type": "execute_result"
    }
   ],
   "source": [
    "pmf[840]"
   ]
  },
  {
   "cell_type": "markdown",
   "id": "8da48a1f-e03c-42da-a552-0bce49f22164",
   "metadata": {},
   "source": [
    "The fraction that failed at 1524 hours:"
   ]
  },
  {
   "cell_type": "code",
   "execution_count": 16,
   "id": "dbd7a89a-657b-4120-bb11-2b54d4f07f78",
   "metadata": {},
   "outputs": [
    {
     "data": {
      "text/plain": [
       "0.06"
      ]
     },
     "execution_count": 16,
     "metadata": {},
     "output_type": "execute_result"
    }
   ],
   "source": [
    "pmf[1524]"
   ]
  },
  {
   "cell_type": "markdown",
   "id": "f5cda608-dc0c-4211-b0d2-9385eeae9a4f",
   "metadata": {},
   "source": [
    "__A plot decorator__"
   ]
  },
  {
   "cell_type": "code",
   "execution_count": 17,
   "id": "857b5c49-6a4b-47c5-a18d-8e417dd2193d",
   "metadata": {},
   "outputs": [],
   "source": [
    "def decorate(**options):\n",
    "    \"\"\"Decorate the current axes.\n",
    "    Call decorate with keyword arguments like\n",
    "    decorate(title='Title',\n",
    "             xlabel='x',\n",
    "             ylabel='y')\n",
    "    The keyword arguments can be any of the axis properties\n",
    "    https://matplotlib.org/api/axes_api.html\n",
    "    \"\"\"\n",
    "    plt.gca().set(**options)\n",
    "    plt.tight_layout()"
   ]
  },
  {
   "cell_type": "code",
   "execution_count": 18,
   "id": "553d5f6f-9560-461f-94d9-acc7a8b5249d",
   "metadata": {},
   "outputs": [
    {
     "data": {
      "image/png": "[encoded data removed]",
      "text/plain": [
       "<Figure size 640x480 with 1 Axes>"
      ]
     },
     "metadata": {},
     "output_type": "display_data"
    }
   ],
   "source": [
    "pmf.plot()\n",
    "decorate(xlabel='Lifetime (hours)', \n",
    "         ylabel='PMF', \n",
    "         title='PMF of lightbulb lifetimes')"
   ]
  },
  {
   "cell_type": "markdown",
   "id": "871c1a2e-9ff1-4186-8d55-931e63b236fe",
   "metadata": {},
   "source": [
    "## 7. Cumulative Density Function (CDF)\n",
    "\n",
    "Let's compute the CDF, which is nothing but the cumulative sum of PDF.\n"
   ]
  },
  {
   "cell_type": "code",
   "execution_count": 19,
   "id": "0cdecfb7-634d-446b-8897-0a2ee0ad6f2b",
   "metadata": {},
   "outputs": [
    {
     "data": {
      "text/plain": [
       "t\n",
       "0      0.00\n",
       "840    0.04\n",
       "852    0.06\n",
       "936    0.08\n",
       "960    0.10\n",
       "dtype: float64"
      ]
     },
     "execution_count": 19,
     "metadata": {},
     "output_type": "execute_result"
    }
   ],
   "source": [
    "cdf = pmf.cumsum()\n",
    "cdf.head()"
   ]
  },
  {
   "cell_type": "code",
   "execution_count": 20,
   "id": "0f4f5bd6-606b-4164-aafe-a741e697016a",
   "metadata": {},
   "outputs": [
    {
     "data": {
      "text/plain": [
       "0.04"
      ]
     },
     "execution_count": 20,
     "metadata": {},
     "output_type": "execute_result"
    }
   ],
   "source": [
    "cdf[840]"
   ]
  },
  {
   "cell_type": "markdown",
   "id": "e561686d-0f32-4aae-a057-3f1b91a3e3e4",
   "metadata": {},
   "source": [
    "And the fraction that expired at or before 1524 hours."
   ]
  },
  {
   "cell_type": "code",
   "execution_count": 21,
   "id": "5ab12e71-d314-4447-ac6e-13527f1023d3",
   "metadata": {},
   "outputs": [
    {
     "data": {
      "text/plain": [
       "0.6000000000000001"
      ]
     },
     "execution_count": 21,
     "metadata": {},
     "output_type": "execute_result"
    }
   ],
   "source": [
    "cdf[1524]"
   ]
  },
  {
   "cell_type": "markdown",
   "id": "736212d9-82b1-4418-afb7-f5a0f9f7fe78",
   "metadata": {},
   "source": [
    "__CDF Plot__\n",
    "\n",
    "This plot shows the fraction of lightbulbs that went out as time went by."
   ]
  },
  {
   "cell_type": "code",
   "execution_count": 22,
   "id": "afceb717-73f9-4c3e-a46f-46481543bb5b",
   "metadata": {},
   "outputs": [
    {
     "data": {
      "image/png": "[encoded data removed]",
      "text/plain": [
       "<Figure size 640x480 with 1 Axes>"
      ]
     },
     "metadata": {},
     "output_type": "display_data"
    }
   ],
   "source": [
    "cdf.plot()\n",
    "decorate(xlabel='Lifetime (hours)', \n",
    "         ylabel='CDF', \n",
    "         title='CDF of lightbulb lifetimes')"
   ]
  },
  {
   "cell_type": "markdown",
   "id": "9cb7e493-b8ad-42fa-8a8f-da081ce269af",
   "metadata": {},
   "source": [
    "## 8. Implementing Survival Function"
   ]
  },
  {
   "cell_type": "markdown",
   "id": "ba9a407a-80ed-4370-9d13-6cd32b204fbd",
   "metadata": {},
   "source": [
    "The survival function is the complement of the CDF; that is, for a given lifetime, t:\n",
    "\n",
    "- The CDF is the fraction of the population less than or equal to t.\n",
    "\n",
    "- The survival function is the fraction (strictly) greater than t.\n",
    "\n",
    "We can compute the survival function like this:"
   ]
  },
  {
   "cell_type": "code",
   "execution_count": 23,
   "id": "1038c729-397c-47c4-9f1f-d730e8d60db1",
   "metadata": {},
   "outputs": [
    {
     "data": {
      "text/plain": [
       "t\n",
       "0      1.00\n",
       "840    0.96\n",
       "852    0.94\n",
       "936    0.92\n",
       "960    0.90\n",
       "dtype: float64"
      ]
     },
     "execution_count": 23,
     "metadata": {},
     "output_type": "execute_result"
    }
   ],
   "source": [
    "surv = 1 - cdf\n",
    "surv.head()"
   ]
  },
  {
   "cell_type": "markdown",
   "id": "784ba696-7bbc-44ad-b753-4578e5833541",
   "metadata": {},
   "source": [
    "The fraction of lightbulbs that lived longer than 1524:"
   ]
  },
  {
   "cell_type": "code",
   "execution_count": 24,
   "id": "07ca7d7f-323d-43ce-bc59-550d87e87917",
   "metadata": {},
   "outputs": [
    {
     "data": {
      "text/plain": [
       "0.3999999999999999"
      ]
     },
     "execution_count": 24,
     "metadata": {},
     "output_type": "execute_result"
    }
   ],
   "source": [
    "surv[1524]"
   ]
  },
  {
   "cell_type": "markdown",
   "id": "620a7846-15e1-4af0-a52f-0c127afb6bf8",
   "metadata": {},
   "source": [
    "__Plot Survival function__"
   ]
  },
  {
   "cell_type": "code",
   "execution_count": 25,
   "id": "68c0d094-1365-4504-9b00-387572e5f436",
   "metadata": {},
   "outputs": [
    {
     "data": {
      "image/png": "[encoded data removed]",
      "text/plain": [
       "<Figure size 640x480 with 1 Axes>"
      ]
     },
     "metadata": {},
     "output_type": "display_data"
    }
   ],
   "source": [
    "cdf.plot(color='gray', alpha=0.4)\n",
    "surv.plot()\n",
    "decorate(xlabel='Lifetime (hours)', \n",
    "         ylabel='Prob(lifetime>t)', \n",
    "         title='Survival function of lightbulb lifetimes')"
   ]
  },
  {
   "cell_type": "markdown",
   "id": "ac2f42fe-36fe-4230-942b-726cf5689778",
   "metadata": {},
   "source": [
    "## 9. Implementing Hazard Function"
   ]
  },
  {
   "cell_type": "markdown",
   "id": "093d49a6-b248-411e-9fcc-d96a867087b8",
   "metadata": {},
   "source": [
    "For a given lifetime t, the hazard function computes the \"hazard rate\" at t. Using the vocabulary of the light bulb example, the hazard rate is the fraction of light bulbs that survive until t and then fail at t.\n",
    "\n",
    "We can compute the hazard rate by computing these quantities:\n",
    "\n",
    "- pmf(t) is the fraction of light bulbs that fail at t.\n",
    "\n",
    "- surv(t) is the fraction of light bulbs that live longer than t.\n",
    "\n",
    "- The sum, pmf(t) + surv(t) is the fraction that survive until t.\n",
    "\n",
    "So the hazard rate is the ratio of pmf(t) to the sum pmf(t) + surv(t). We can compute it like this:"
   ]
  },
  {
   "cell_type": "code",
   "execution_count": 26,
   "id": "71148d2c-5de0-430d-8c35-b84ee3b83476",
   "metadata": {},
   "outputs": [
    {
     "data": {
      "text/plain": [
       "t\n",
       "0      0.000000\n",
       "840    0.040000\n",
       "852    0.020833\n",
       "936    0.021277\n",
       "960    0.021739\n",
       "dtype: float64"
      ]
     },
     "execution_count": 26,
     "metadata": {},
     "output_type": "execute_result"
    }
   ],
   "source": [
    "haz = pmf / (pmf + surv)\n",
    "haz.head()"
   ]
  },
  {
   "cell_type": "markdown",
   "id": "11e0d562-8a05-4299-ac65-88ea808263f9",
   "metadata": {},
   "source": [
    "__Plot Hazard function__"
   ]
  },
  {
   "cell_type": "code",
   "execution_count": 27,
   "id": "097172a4-24ef-4de7-9120-05b619ac45aa",
   "metadata": {},
   "outputs": [
    {
     "data": {
      "image/png": "[encoded data removed]",
      "text/plain": [
       "<Figure size 640x480 with 1 Axes>"
      ]
     },
     "metadata": {},
     "output_type": "display_data"
    }
   ],
   "source": [
    "haz.plot()\n",
    "decorate(xlabel='Lifetime (hours)', \n",
    "         ylabel='Hazard rate', \n",
    "         title='Hazard function of lightbulb lifetimes')"
   ]
  },
  {
   "cell_type": "markdown",
   "id": "0c95910b-5d3d-4f33-8512-d45b3a426a30",
   "metadata": {},
   "source": [
    "We have two problems here:\n",
    "\n",
    "1. The plot shows spikes at the locations of the data, but it is hard to see the shape of the curve.\r\n",
    "2. \r\n",
    "The large values on the right are unreliable because they are based on a small number of values."
   ]
  },
  {
   "cell_type": "code",
   "execution_count": 28,
   "id": "f1d7ac7d-2b54-4ab4-b154-ec4fdfc3ce0d",
   "metadata": {},
   "outputs": [
    {
     "data": {
      "text/html": [
       "<div>\n",
       "<style scoped>\n",
       "    .dataframe tbody tr th:only-of-type {\n",
       "        vertical-align: middle;\n",
       "    }\n",
       "\n",
       "    .dataframe tbody tr th {\n",
       "        vertical-align: top;\n",
       "    }\n",
       "\n",
       "    .dataframe thead th {\n",
       "        text-align: right;\n",
       "    }\n",
       "</style>\n",
       "<table border=\"1\" class=\"dataframe\">\n",
       "  <thead>\n",
       "    <tr style=\"text-align: right;\">\n",
       "      <th></th>\n",
       "      <th>h</th>\n",
       "      <th>f</th>\n",
       "      <th>K</th>\n",
       "    </tr>\n",
       "    <tr>\n",
       "      <th>i</th>\n",
       "      <th></th>\n",
       "      <th></th>\n",
       "      <th></th>\n",
       "    </tr>\n",
       "  </thead>\n",
       "  <tbody>\n",
       "    <tr>\n",
       "      <th>28</th>\n",
       "      <td>1812</td>\n",
       "      <td>1</td>\n",
       "      <td>4</td>\n",
       "    </tr>\n",
       "    <tr>\n",
       "      <th>29</th>\n",
       "      <td>1836</td>\n",
       "      <td>1</td>\n",
       "      <td>3</td>\n",
       "    </tr>\n",
       "    <tr>\n",
       "      <th>30</th>\n",
       "      <td>1860</td>\n",
       "      <td>1</td>\n",
       "      <td>2</td>\n",
       "    </tr>\n",
       "    <tr>\n",
       "      <th>31</th>\n",
       "      <td>1980</td>\n",
       "      <td>1</td>\n",
       "      <td>1</td>\n",
       "    </tr>\n",
       "    <tr>\n",
       "      <th>32</th>\n",
       "      <td>2568</td>\n",
       "      <td>1</td>\n",
       "      <td>0</td>\n",
       "    </tr>\n",
       "  </tbody>\n",
       "</table>\n",
       "</div>"
      ],
      "text/plain": [
       "       h  f  K\n",
       "i             \n",
       "28  1812  1  4\n",
       "29  1836  1  3\n",
       "30  1860  1  2\n",
       "31  1980  1  1\n",
       "32  2568  1  0"
      ]
     },
     "execution_count": 28,
     "metadata": {},
     "output_type": "execute_result"
    }
   ],
   "source": [
    "# f is number of failed lamps\n",
    "# K is number of surviving lamps\n",
    "df.tail()"
   ]
  },
  {
   "cell_type": "code",
   "execution_count": 29,
   "id": "24c2eff6-74e3-4558-9575-0e6d76e2bcad",
   "metadata": {},
   "outputs": [
    {
     "data": {
      "text/html": [
       "<div>\n",
       "<style scoped>\n",
       "    .dataframe tbody tr th:only-of-type {\n",
       "        vertical-align: middle;\n",
       "    }\n",
       "\n",
       "    .dataframe tbody tr th {\n",
       "        vertical-align: top;\n",
       "    }\n",
       "\n",
       "    .dataframe thead th {\n",
       "        text-align: right;\n",
       "    }\n",
       "</style>\n",
       "<table border=\"1\" class=\"dataframe\">\n",
       "  <thead>\n",
       "    <tr style=\"text-align: right;\">\n",
       "      <th></th>\n",
       "      <th>h</th>\n",
       "      <th>f</th>\n",
       "      <th>K</th>\n",
       "    </tr>\n",
       "    <tr>\n",
       "      <th>i</th>\n",
       "      <th></th>\n",
       "      <th></th>\n",
       "      <th></th>\n",
       "    </tr>\n",
       "  </thead>\n",
       "  <tbody>\n",
       "    <tr>\n",
       "      <th>28</th>\n",
       "      <td>1812</td>\n",
       "      <td>1</td>\n",
       "      <td>4</td>\n",
       "    </tr>\n",
       "    <tr>\n",
       "      <th>29</th>\n",
       "      <td>1836</td>\n",
       "      <td>1</td>\n",
       "      <td>3</td>\n",
       "    </tr>\n",
       "    <tr>\n",
       "      <th>30</th>\n",
       "      <td>1860</td>\n",
       "      <td>1</td>\n",
       "      <td>2</td>\n",
       "    </tr>\n",
       "    <tr>\n",
       "      <th>31</th>\n",
       "      <td>1980</td>\n",
       "      <td>1</td>\n",
       "      <td>1</td>\n",
       "    </tr>\n",
       "    <tr>\n",
       "      <th>32</th>\n",
       "      <td>2568</td>\n",
       "      <td>1</td>\n",
       "      <td>0</td>\n",
       "    </tr>\n",
       "  </tbody>\n",
       "</table>\n",
       "</div>"
      ],
      "text/plain": [
       "       h  f  K\n",
       "i             \n",
       "28  1812  1  4\n",
       "29  1836  1  3\n",
       "30  1860  1  2\n",
       "31  1980  1  1\n",
       "32  2568  1  0"
      ]
     },
     "execution_count": 29,
     "metadata": {},
     "output_type": "execute_result"
    }
   ],
   "source": [
    "df.tail()"
   ]
  },
  {
   "cell_type": "markdown",
   "id": "dd435983-1559-48c9-ae38-c52ba8109040",
   "metadata": {},
   "source": [
    "The last value of the hazard function is based on only one bulb; the second-to-last point is based on 2 bulbs; and so on. So, there is not much confidence in the values of estimated hazard function towards the end."
   ]
  },
  {
   "cell_type": "markdown",
   "id": "0b91a04c-10d3-4092-abd2-f7442c343bd1",
   "metadata": {},
   "source": [
    "__Cumulative hazard function__"
   ]
  },
  {
   "cell_type": "code",
   "execution_count": 30,
   "id": "ba638ff9-6a56-4482-9e77-b33aad2d8d00",
   "metadata": {},
   "outputs": [
    {
     "data": {
      "image/png": "[encoded data removed]",
      "text/plain": [
       "<Figure size 640x480 with 1 Axes>"
      ]
     },
     "metadata": {},
     "output_type": "display_data"
    }
   ],
   "source": [
    "haz.cumsum().plot()\n",
    "\n",
    "decorate(xlabel='Lifetime (hours)', \n",
    "         ylabel='Cumulative hazard rate', \n",
    "         title='Hazard function of lightbulb lifetimes')"
   ]
  },
  {
   "cell_type": "markdown",
   "id": "8d56ae17-dc04-4145-8fa6-2dfe8bcdb8f8",
   "metadata": {},
   "source": [
    "The values don't mean much in the above chart because they are cumulative sum of 'rates'. You can't really sum up rates, doesnt make sense.\n",
    "\n",
    "But, we can see where the hazar rates are too steep and shallow.\n",
    "\n",
    "- Between 0 and 1000 hours, the slope is low, so the hazard rate is low.\r\n",
    "- \r\n",
    "Between 1000 and 2000 hours, the slope is increasing, so the hazard rate is increasing."
   ]
  },
  {
   "cell_type": "markdown",
   "id": "b267f3ae-1212-4645-9513-7ab01947b3bc",
   "metadata": {},
   "source": [
    "## 10. Resampling for confidence"
   ]
  },
  {
   "cell_type": "markdown",
   "id": "22012520-1ae0-447e-875c-a7d81376a8aa",
   "metadata": {},
   "source": [
    "First Let's use the Pmf of lifetimes to make a kernel density estimate (KDE) of the distribution.\n",
    "\n",
    "We will use this to generate more samples that imitate data with similar distribution (light bulb outages)."
   ]
  },
  {
   "cell_type": "code",
   "execution_count": 39,
   "id": "c53e2ca7-5d73-4195-88e8-18b212cc8696",
   "metadata": {},
   "outputs": [
    {
     "name": "stdout",
     "output_type": "stream",
     "text": [
      "Int64Index([   0,  840,  852,  936,  960,  972,  996, 1008, 1032, 1104, 1176,\n",
      "            1200, 1260, 1296, 1308, 1332, 1356, 1380, 1416, 1476, 1524, 1548,\n",
      "            1560, 1632, 1644, 1656, 1716, 1764, 1812, 1836, 1860, 1980, 2568],\n",
      "           dtype='int64', name='t')\n",
      "[0.   0.04 0.02 0.02 0.02 0.02 0.02 0.02 0.04 0.02 0.1  0.02 0.02 0.02\n",
      " 0.02 0.04 0.02 0.02 0.02 0.04 0.06 0.06 0.02 0.02 0.04 0.04 0.1  0.02\n",
      " 0.02 0.02 0.02 0.02 0.02]\n"
     ]
    }
   ],
   "source": [
    "print(pmf.index)\n",
    "print(pmf.values)"
   ]
  },
  {
   "cell_type": "code",
   "execution_count": 31,
   "id": "7b5c896b-bddd-415e-bbbb-7fb83295d481",
   "metadata": {},
   "outputs": [],
   "source": [
    "from scipy.stats import gaussian_kde\n",
    "    \n",
    "kde = gaussian_kde(pmf.index, weights=pmf)\n",
    "size = df['f'].sum()"
   ]
  },
  {
   "cell_type": "code",
   "execution_count": 33,
   "id": "fa2826cd-6719-44c8-8800-b3fe4c45b050",
   "metadata": {},
   "outputs": [
    {
     "data": {
      "text/plain": [
       "50"
      ]
     },
     "execution_count": 33,
     "metadata": {},
     "output_type": "execute_result"
    }
   ],
   "source": [
    "size  # n bulbs"
   ]
  },
  {
   "cell_type": "markdown",
   "id": "4c380dd9-961c-4e6f-9b4f-76b2caed1396",
   "metadata": {},
   "source": [
    "We can use the KDE to draw a new sample of lifetimes, with the same size as the original data set, like this."
   ]
  },
  {
   "cell_type": "code",
   "execution_count": 35,
   "id": "1b9101bc-d389-42c3-90e6-e7da5ea53223",
   "metadata": {},
   "outputs": [
    {
     "data": {
      "text/plain": [
       "(50,)"
      ]
     },
     "execution_count": 35,
     "metadata": {},
     "output_type": "execute_result"
    }
   ],
   "source": [
    "sample = kde.resample(size).flatten()\n",
    "sample.shape"
   ]
  },
  {
   "cell_type": "markdown",
   "id": "d4975121-9a8f-48f8-8414-f8f647f00a85",
   "metadata": {},
   "source": [
    "The following function takes a sample and computes its PMF, CDF, survival function, and hazard function."
   ]
  },
  {
   "cell_type": "code",
   "execution_count": 67,
   "id": "74246ba8-12e1-427c-b71c-06d04ba8f871",
   "metadata": {},
   "outputs": [],
   "source": [
    "def make_hazard(sample):\n",
    "    pmf = pd.Series(sample).value_counts(normalize=True).sort_index()    \n",
    "    cdf = pmf.cumsum()\n",
    "    surv = 1 - cdf\n",
    "    haz = pmf / (pmf + surv)\n",
    "    return pmf, cdf, surv, haz"
   ]
  },
  {
   "cell_type": "markdown",
   "id": "e8fa4d0e-d727-4f5b-b9e6-201f9cb31e59",
   "metadata": {},
   "source": [
    "Let's generate 100 samples and plot their survival functions\n"
   ]
  },
  {
   "cell_type": "code",
   "execution_count": 41,
   "id": "288118b6-54a7-4bbe-b75d-9f53dd993d99",
   "metadata": {},
   "outputs": [
    {
     "data": {
      "image/png": "[encoded data removed]",
      "text/plain": [
       "<Figure size 640x480 with 1 Axes>"
      ]
     },
     "metadata": {},
     "output_type": "display_data"
    }
   ],
   "source": [
    "for i in range(100):\n",
    "    sample = kde.resample(size).flatten()\n",
    "    _, _, sf, _ = make_hazard(sample)\n",
    "    sf.plot(color='gray', alpha=0.1)\n",
    "    \n",
    "surv.plot()\n",
    "decorate(xlabel='Lifetime (hours)', \n",
    "         ylabel='Prob(lifetime>t)', \n",
    "         title='Survival function of lightbulb lifetimes')"
   ]
  },
  {
   "cell_type": "markdown",
   "id": "79476af7-d255-4738-ac24-70d7bc06b9b0",
   "metadata": {},
   "source": [
    "Do the same for Hazard functions."
   ]
  },
  {
   "cell_type": "code",
   "execution_count": 42,
   "id": "1dee2d0c-8871-4857-9486-50ae6258f00e",
   "metadata": {},
   "outputs": [
    {
     "data": {
      "image/png": "[encoded data removed]",
      "text/plain": [
       "<Figure size 640x480 with 1 Axes>"
      ]
     },
     "metadata": {},
     "output_type": "display_data"
    }
   ],
   "source": [
    "for i in range(100):\n",
    "    sample = kde.resample(size).flatten()\n",
    "    _, _, _, hf = make_hazard(sample)\n",
    "    hf.cumsum().plot(color='gray', alpha=0.1)\n",
    "\n",
    "haz.cumsum().plot()\n",
    "\n",
    "decorate(xlabel='Lifetime (hours)', \n",
    "         ylabel='Cumulative hazard rate', \n",
    "         title='Hazard function of lightbulb lifetimes')"
   ]
  },
  {
   "cell_type": "markdown",
   "id": "d87cfc26-463a-4234-ad11-845eabbade27",
   "metadata": {},
   "source": [
    "This plot gives us a sense of which parts of the cumulative hazard function are reliable and which are not.\r\n",
    "\r\n",
    "Below 2000 hours, all of the resampled curves are similar; they increase with increasing slope.\r\n",
    "\r\n",
    "After that, the variability of the curves is much wider, which means we don't have enough data to characterize this part of the hazard function."
   ]
  },
  {
   "cell_type": "markdown",
   "id": "ea869abb-e28f-41a6-8b90-316e63a0be31",
   "metadata": {},
   "source": [
    "# SECTION 3: Kaplan Meier Estimation from scratch\n",
    "\n",
    "This example is based on the following [notebook](https://nbviewer.org/github/AllenDowney/SurvivalAnalysisPython/blob/master/soln/02_kaplan_meier.ipynb) from Dr. Allen Downey.\n",
    "\n",
    "Kaplan Meier Estimation is a method to estimate Hazard function when the dataset includes both complete and incomplete cases."
   ]
  },
  {
   "cell_type": "markdown",
   "id": "72202df8-8bee-430a-ad95-b5f304e024e7",
   "metadata": {},
   "source": [
    "## 11. Data Understanding and plot lifelines"
   ]
  },
  {
   "cell_type": "markdown",
   "id": "b5a4a293-7b17-4621-81de-42ccee58984e",
   "metadata": {},
   "source": [
    "__Load the basic packages__"
   ]
  },
  {
   "cell_type": "code",
   "execution_count": 4,
   "id": "28f6c327-678d-4408-a658-d3bc4854def1",
   "metadata": {},
   "outputs": [],
   "source": [
    "import pandas as pd\n",
    "import numpy as np\n",
    "import matplotlib.pyplot as plt\n",
    "%matplotlib inline"
   ]
  },
  {
   "cell_type": "markdown",
   "id": "1c259bb7-445f-446f-869f-f12302dcfd73",
   "metadata": {},
   "source": [
    "__Import the data__"
   ]
  },
  {
   "cell_type": "code",
   "execution_count": 2,
   "id": "9fe97cc9-d222-4718-a655-404ff7fb8848",
   "metadata": {},
   "outputs": [
    {
     "data": {
      "text/html": [
       "<div>\n",
       "<style scoped>\n",
       "    .dataframe tbody tr th:only-of-type {\n",
       "        vertical-align: middle;\n",
       "    }\n",
       "\n",
       "    .dataframe tbody tr th {\n",
       "        vertical-align: top;\n",
       "    }\n",
       "\n",
       "    .dataframe thead th {\n",
       "        text-align: right;\n",
       "    }\n",
       "</style>\n",
       "<table border=\"1\" class=\"dataframe\">\n",
       "  <thead>\n",
       "    <tr style=\"text-align: right;\">\n",
       "      <th></th>\n",
       "      <th>start</th>\n",
       "      <th>end</th>\n",
       "      <th>status</th>\n",
       "    </tr>\n",
       "  </thead>\n",
       "  <tbody>\n",
       "    <tr>\n",
       "      <th>0</th>\n",
       "      <td>0</td>\n",
       "      <td>5</td>\n",
       "      <td>1</td>\n",
       "    </tr>\n",
       "    <tr>\n",
       "      <th>1</th>\n",
       "      <td>1</td>\n",
       "      <td>2</td>\n",
       "      <td>1</td>\n",
       "    </tr>\n",
       "    <tr>\n",
       "      <th>2</th>\n",
       "      <td>2</td>\n",
       "      <td>6</td>\n",
       "      <td>1</td>\n",
       "    </tr>\n",
       "    <tr>\n",
       "      <th>3</th>\n",
       "      <td>2</td>\n",
       "      <td>9</td>\n",
       "      <td>0</td>\n",
       "    </tr>\n",
       "    <tr>\n",
       "      <th>4</th>\n",
       "      <td>4</td>\n",
       "      <td>9</td>\n",
       "      <td>0</td>\n",
       "    </tr>\n",
       "    <tr>\n",
       "      <th>5</th>\n",
       "      <td>6</td>\n",
       "      <td>8</td>\n",
       "      <td>1</td>\n",
       "    </tr>\n",
       "    <tr>\n",
       "      <th>6</th>\n",
       "      <td>7</td>\n",
       "      <td>9</td>\n",
       "      <td>0</td>\n",
       "    </tr>\n",
       "  </tbody>\n",
       "</table>\n",
       "</div>"
      ],
      "text/plain": [
       "   start  end  status\n",
       "0      0    5       1\n",
       "1      1    2       1\n",
       "2      2    6       1\n",
       "3      2    9       0\n",
       "4      4    9       0\n",
       "5      6    8       1\n",
       "6      7    9       0"
      ]
     },
     "execution_count": 2,
     "metadata": {},
     "output_type": "execute_result"
    }
   ],
   "source": [
    "obs = pd.DataFrame()\n",
    "\n",
    "obs['start'] = 0,1,2,2,4,6,7\n",
    "obs['end'] = 5,2,6,9,9,8,9\n",
    "obs['status'] = 1,1,1,0,0,1,0\n",
    "\n",
    "obs"
   ]
  },
  {
   "cell_type": "markdown",
   "id": "63bf6f7d-743c-4270-8d9b-d5e1c3899f82",
   "metadata": {},
   "source": [
    "status: 1 - event has occurred; 0 - not occurred."
   ]
  },
  {
   "cell_type": "markdown",
   "id": "f1499cf9-4ca5-4269-9c06-ce265157cf54",
   "metadata": {},
   "source": [
    "#### Plot"
   ]
  },
  {
   "cell_type": "code",
   "execution_count": 6,
   "id": "29713bfc-0f53-44b2-a5d4-1692e348e08b",
   "metadata": {},
   "outputs": [
    {
     "data": {
      "image/png": "[encoded data removed]",
      "text/plain": [
       "<Figure size 640x480 with 1 Axes>"
      ]
     },
     "metadata": {},
     "output_type": "display_data"
    }
   ],
   "source": [
    "def plot_lifelines(obs, y_label=\"Item number\", x_label=\"Time (days)\", title=\"Lifelines\"):\n",
    "    \"\"\"Plot a line for each observation.\n",
    "    \n",
    "    obs: DataFrame\n",
    "    \"\"\"\n",
    "    for y, row in obs.iterrows():\n",
    "        start = row['start']\n",
    "        end = row['end']\n",
    "        status = row['status']\n",
    "        \n",
    "        if status == 0:\n",
    "            # ongoing\n",
    "            plt.hlines(y, start, end, color='C0')\n",
    "        else:\n",
    "            # complete\n",
    "            plt.hlines(y, start, end, color='C1')\n",
    "            plt.plot(end, y, marker='o', color='C1')\n",
    "            \n",
    "    plt.xlabel(x_label)\n",
    "    plt.ylabel(y_label)\n",
    "    plt.title(title)\n",
    "    plt.gca().invert_yaxis()\n",
    "\n",
    "plot_lifelines(obs)"
   ]
  },
  {
   "cell_type": "markdown",
   "id": "5eb8f410-2f02-4ca1-808d-63224205ee38",
   "metadata": {},
   "source": [
    "Each line represents one item. If there is a dot in the end, it implies the event has occurred. Else, it has not occurred. \n",
    "As you can see, some of the items are right censored."
   ]
  },
  {
   "cell_type": "markdown",
   "id": "44e07d16-0300-4362-9dd3-a1a9d3afe36e",
   "metadata": {},
   "source": [
    "## 12. Estimating survival times\n",
    "\n",
    "We have a mixture of complete and incomplete observations.\n",
    "\n",
    "When we have a mixture of complete and incomplete observations -- adopted and unadopted dogs -- we can't compute the Survival function directly. Instead, we have to work backwards: we estimate the hazard function first, then use it to compute the survival function, CDF, and PMF."
   ]
  },
  {
   "cell_type": "code",
   "execution_count": 46,
   "id": "d11bd02e-ff3c-4d4a-9bdd-928feb070aff",
   "metadata": {},
   "outputs": [],
   "source": [
    "duration = obs['end'] - obs['start']\n",
    "\n",
    "# Create a copy and shift the starting times.\n",
    "shifted = obs.copy()\n",
    "shifted['start'] = 0\n",
    "shifted['end'] = duration"
   ]
  },
  {
   "cell_type": "code",
   "execution_count": 45,
   "id": "691d092e-2d3f-4863-8e48-12fa759f9590",
   "metadata": {},
   "outputs": [
    {
     "data": {
      "image/png": "[encoded data removed]",
      "text/plain": [
       "<Figure size 640x480 with 1 Axes>"
      ]
     },
     "metadata": {},
     "output_type": "display_data"
    }
   ],
   "source": [
    "plot_lifelines(shifted)\n",
    "plt.xlabel('Duration (weeks)');"
   ]
  },
  {
   "cell_type": "markdown",
   "id": "a688528d-a5fb-47cd-8197-3107048c9cf4",
   "metadata": {},
   "source": [
    "Notice that the x-axis in this figure is duration, not time.\n",
    "\n",
    "The second key idea is that we can estimate the hazard function by considering: The number of dogs adopted at each duration, divided by the number of dogs \"at risk\" at each duration, where \"at risk\" means that they could be adopted.\n",
    "\n",
    "For example:\n",
    "\n",
    "- At duration 1, there is 1 adoption out of 7 dogs at risk, so the hazard rate is 1/7.\n",
    "\n",
    "- At duration 2, there is 1 adoption out of 6 dogs at risk, so the hazard rate is 1/6.\n",
    "\n",
    "- At duration 4, there is 1 adoption out of 4 dogs at risk, so the hazard rate is 1/4.\n",
    "\n",
    "And so on. Now let's see how that works computationally."
   ]
  },
  {
   "cell_type": "markdown",
   "id": "c3e20abf-9d2a-4697-9097-112e69c5e9cd",
   "metadata": {},
   "source": [
    "## 13. Estimating the Hazard function\n",
    "\n",
    "To be able to compute the hazard, let's compute the denominator of the hazard function first, which is the number of 'available' dogs at a given time."
   ]
  },
  {
   "cell_type": "code",
   "execution_count": 48,
   "id": "26013756-c3d9-4267-b01b-1045323792d8",
   "metadata": {},
   "outputs": [
    {
     "data": {
      "text/plain": [
       "0    5\n",
       "1    1\n",
       "2    4\n",
       "3    7\n",
       "4    5\n",
       "5    2\n",
       "6    2\n",
       "dtype: int64"
      ]
     },
     "execution_count": 48,
     "metadata": {},
     "output_type": "execute_result"
    }
   ],
   "source": [
    "# The amount of time (duration) each dog 'survived' before being adopted.\n",
    "duration"
   ]
  },
  {
   "cell_type": "markdown",
   "id": "842933e0-ab2f-412d-a822-91587f8d3e83",
   "metadata": {},
   "source": [
    "Let's get the unique of these durations (now 'time points') and compute the number of dogs 'available' at each of these times."
   ]
  },
  {
   "cell_type": "code",
   "execution_count": 49,
   "id": "ca18e326-b8a6-446d-99c9-ce63672d6056",
   "metadata": {},
   "outputs": [
    {
     "data": {
      "text/plain": [
       "array([1, 2, 4, 5, 7], dtype=int64)"
      ]
     },
     "execution_count": 49,
     "metadata": {},
     "output_type": "execute_result"
    }
   ],
   "source": [
    "ts = duration.unique()\n",
    "ts.sort()\n",
    "ts"
   ]
  },
  {
   "cell_type": "markdown",
   "id": "48b6a455-b4e2-41c6-b95d-c25d835a03a3",
   "metadata": {},
   "source": [
    "To compute the number of dogs at risk, we can loop through ts and count the number of dogs where t is less than or equal to end.\n"
   ]
  },
  {
   "cell_type": "code",
   "execution_count": 50,
   "id": "18246cd8-e8ae-4d87-a0a6-8a787b78a62f",
   "metadata": {},
   "outputs": [
    {
     "data": {
      "text/plain": [
       "1    7\n",
       "2    6\n",
       "4    4\n",
       "5    3\n",
       "7    1\n",
       "dtype: int64"
      ]
     },
     "execution_count": 50,
     "metadata": {},
     "output_type": "execute_result"
    }
   ],
   "source": [
    "at_risk = pd.Series(0, index=ts)\n",
    "\n",
    "for t in ts:\n",
    "    k = (t <= shifted['end'])\n",
    "    at_risk[t] = k.sum()\n",
    "    \n",
    "at_risk"
   ]
  },
  {
   "cell_type": "markdown",
   "id": "8a7fd07a-6e19-4fbd-b18f-9176918d5ea6",
   "metadata": {},
   "source": [
    "These are the denominators of the Hazard function, which is the number of dogs available at each time.\n",
    "\n",
    "__How to read above output?__\n",
    "\n",
    "- At time 1: 7 dogs were available\n",
    "- At time 2: 6 dogs were available\n",
    "- At time 4: 4 dogs were available and so on"
   ]
  },
  {
   "cell_type": "markdown",
   "id": "9a50a001-a4f4-4fe8-b043-5b25bd2715d9",
   "metadata": {},
   "source": [
    "Now, let's compute the numerator: which is the number of dogs adopted at each 't'."
   ]
  },
  {
   "cell_type": "code",
   "execution_count": 51,
   "id": "bfca559d-a37d-45ae-8a70-142624dd1a0e",
   "metadata": {},
   "outputs": [
    {
     "data": {
      "text/plain": [
       "1    1\n",
       "2    1\n",
       "4    1\n",
       "5    1\n",
       "7    0\n",
       "dtype: int64"
      ]
     },
     "execution_count": 51,
     "metadata": {},
     "output_type": "execute_result"
    }
   ],
   "source": [
    "adopted = pd.Series(0, index=ts)\n",
    "\n",
    "for t in ts:\n",
    "    k = (shifted['status'] == 1) & (t == shifted['end'])\n",
    "    adopted[t] = k.sum()\n",
    "    \n",
    "adopted"
   ]
  },
  {
   "cell_type": "markdown",
   "id": "387b2f25-d213-47f6-a1c3-42785a202432",
   "metadata": {},
   "source": [
    "Put it in a dataframe"
   ]
  },
  {
   "cell_type": "code",
   "execution_count": 52,
   "id": "1b743771-cfde-4f23-a534-a8b8802e3f97",
   "metadata": {},
   "outputs": [
    {
     "data": {
      "text/html": [
       "<div>\n",
       "<style scoped>\n",
       "    .dataframe tbody tr th:only-of-type {\n",
       "        vertical-align: middle;\n",
       "    }\n",
       "\n",
       "    .dataframe tbody tr th {\n",
       "        vertical-align: top;\n",
       "    }\n",
       "\n",
       "    .dataframe thead th {\n",
       "        text-align: right;\n",
       "    }\n",
       "</style>\n",
       "<table border=\"1\" class=\"dataframe\">\n",
       "  <thead>\n",
       "    <tr style=\"text-align: right;\">\n",
       "      <th></th>\n",
       "      <th>adopted</th>\n",
       "      <th>at_risk</th>\n",
       "    </tr>\n",
       "  </thead>\n",
       "  <tbody>\n",
       "    <tr>\n",
       "      <th>1</th>\n",
       "      <td>1</td>\n",
       "      <td>7</td>\n",
       "    </tr>\n",
       "    <tr>\n",
       "      <th>2</th>\n",
       "      <td>1</td>\n",
       "      <td>6</td>\n",
       "    </tr>\n",
       "    <tr>\n",
       "      <th>4</th>\n",
       "      <td>1</td>\n",
       "      <td>4</td>\n",
       "    </tr>\n",
       "    <tr>\n",
       "      <th>5</th>\n",
       "      <td>1</td>\n",
       "      <td>3</td>\n",
       "    </tr>\n",
       "    <tr>\n",
       "      <th>7</th>\n",
       "      <td>0</td>\n",
       "      <td>1</td>\n",
       "    </tr>\n",
       "  </tbody>\n",
       "</table>\n",
       "</div>"
      ],
      "text/plain": [
       "   adopted  at_risk\n",
       "1        1        7\n",
       "2        1        6\n",
       "4        1        4\n",
       "5        1        3\n",
       "7        0        1"
      ]
     },
     "execution_count": 52,
     "metadata": {},
     "output_type": "execute_result"
    }
   ],
   "source": [
    "d = dict(adopted=adopted, \n",
    "         at_risk=at_risk)\n",
    "df = pd.DataFrame(d, index=ts)\n",
    "df"
   ]
  },
  {
   "cell_type": "markdown",
   "id": "fdb2b3d5-80f4-46af-b947-ad32ce935732",
   "metadata": {},
   "source": [
    "Finally, the hazard function is the ratio of adopted and at_risk:"
   ]
  },
  {
   "cell_type": "code",
   "execution_count": 53,
   "id": "234a5937-5021-4df2-b99c-a2aef8337fb0",
   "metadata": {},
   "outputs": [
    {
     "data": {
      "text/html": [
       "<div>\n",
       "<style scoped>\n",
       "    .dataframe tbody tr th:only-of-type {\n",
       "        vertical-align: middle;\n",
       "    }\n",
       "\n",
       "    .dataframe tbody tr th {\n",
       "        vertical-align: top;\n",
       "    }\n",
       "\n",
       "    .dataframe thead th {\n",
       "        text-align: right;\n",
       "    }\n",
       "</style>\n",
       "<table border=\"1\" class=\"dataframe\">\n",
       "  <thead>\n",
       "    <tr style=\"text-align: right;\">\n",
       "      <th></th>\n",
       "      <th>adopted</th>\n",
       "      <th>at_risk</th>\n",
       "      <th>hazard</th>\n",
       "    </tr>\n",
       "  </thead>\n",
       "  <tbody>\n",
       "    <tr>\n",
       "      <th>1</th>\n",
       "      <td>1</td>\n",
       "      <td>7</td>\n",
       "      <td>0.142857</td>\n",
       "    </tr>\n",
       "    <tr>\n",
       "      <th>2</th>\n",
       "      <td>1</td>\n",
       "      <td>6</td>\n",
       "      <td>0.166667</td>\n",
       "    </tr>\n",
       "    <tr>\n",
       "      <th>4</th>\n",
       "      <td>1</td>\n",
       "      <td>4</td>\n",
       "      <td>0.250000</td>\n",
       "    </tr>\n",
       "    <tr>\n",
       "      <th>5</th>\n",
       "      <td>1</td>\n",
       "      <td>3</td>\n",
       "      <td>0.333333</td>\n",
       "    </tr>\n",
       "    <tr>\n",
       "      <th>7</th>\n",
       "      <td>0</td>\n",
       "      <td>1</td>\n",
       "      <td>0.000000</td>\n",
       "    </tr>\n",
       "  </tbody>\n",
       "</table>\n",
       "</div>"
      ],
      "text/plain": [
       "   adopted  at_risk    hazard\n",
       "1        1        7  0.142857\n",
       "2        1        6  0.166667\n",
       "4        1        4  0.250000\n",
       "5        1        3  0.333333\n",
       "7        0        1  0.000000"
      ]
     },
     "execution_count": 53,
     "metadata": {},
     "output_type": "execute_result"
    }
   ],
   "source": [
    "df['hazard'] = df['adopted'] / df['at_risk']\n",
    "df"
   ]
  },
  {
   "cell_type": "markdown",
   "id": "7eab1464-3dc9-4d44-95e5-2f622926c756",
   "metadata": {},
   "source": [
    "## 14. Reverse engineering the Hazard function"
   ]
  },
  {
   "cell_type": "markdown",
   "id": "ecc26a11-9f7a-43ef-a33d-f9ba9c6c37e7",
   "metadata": {},
   "source": [
    "Given the hazard function, we can work backwards to compute the survival curve.\r\n",
    "\r\n",
    "The hazard function is the probability of being adopted at each duration, so its complement is the probability of not being adopted.\r\n",
    "\r\n",
    "In order to survive past t, a dog has to not be adopted at all durations up to and including t.\r\n",
    "\r\n",
    "So the survival function is the cumulative product of the complement of the hazard function."
   ]
  },
  {
   "cell_type": "code",
   "execution_count": 54,
   "id": "c556bd43-0f0c-4d2c-927b-3f0533f42bb0",
   "metadata": {},
   "outputs": [
    {
     "data": {
      "text/html": [
       "<div>\n",
       "<style scoped>\n",
       "    .dataframe tbody tr th:only-of-type {\n",
       "        vertical-align: middle;\n",
       "    }\n",
       "\n",
       "    .dataframe tbody tr th {\n",
       "        vertical-align: top;\n",
       "    }\n",
       "\n",
       "    .dataframe thead th {\n",
       "        text-align: right;\n",
       "    }\n",
       "</style>\n",
       "<table border=\"1\" class=\"dataframe\">\n",
       "  <thead>\n",
       "    <tr style=\"text-align: right;\">\n",
       "      <th></th>\n",
       "      <th>adopted</th>\n",
       "      <th>at_risk</th>\n",
       "      <th>hazard</th>\n",
       "      <th>surv</th>\n",
       "    </tr>\n",
       "  </thead>\n",
       "  <tbody>\n",
       "    <tr>\n",
       "      <th>1</th>\n",
       "      <td>1</td>\n",
       "      <td>7</td>\n",
       "      <td>0.142857</td>\n",
       "      <td>0.857143</td>\n",
       "    </tr>\n",
       "    <tr>\n",
       "      <th>2</th>\n",
       "      <td>1</td>\n",
       "      <td>6</td>\n",
       "      <td>0.166667</td>\n",
       "      <td>0.714286</td>\n",
       "    </tr>\n",
       "    <tr>\n",
       "      <th>4</th>\n",
       "      <td>1</td>\n",
       "      <td>4</td>\n",
       "      <td>0.250000</td>\n",
       "      <td>0.535714</td>\n",
       "    </tr>\n",
       "    <tr>\n",
       "      <th>5</th>\n",
       "      <td>1</td>\n",
       "      <td>3</td>\n",
       "      <td>0.333333</td>\n",
       "      <td>0.357143</td>\n",
       "    </tr>\n",
       "    <tr>\n",
       "      <th>7</th>\n",
       "      <td>0</td>\n",
       "      <td>1</td>\n",
       "      <td>0.000000</td>\n",
       "      <td>0.357143</td>\n",
       "    </tr>\n",
       "  </tbody>\n",
       "</table>\n",
       "</div>"
      ],
      "text/plain": [
       "   adopted  at_risk    hazard      surv\n",
       "1        1        7  0.142857  0.857143\n",
       "2        1        6  0.166667  0.714286\n",
       "4        1        4  0.250000  0.535714\n",
       "5        1        3  0.333333  0.357143\n",
       "7        0        1  0.000000  0.357143"
      ]
     },
     "execution_count": 54,
     "metadata": {},
     "output_type": "execute_result"
    }
   ],
   "source": [
    "df['surv'] = (1 - df['hazard']).cumprod()\n",
    "df"
   ]
  },
  {
   "cell_type": "markdown",
   "id": "8adfb65b-c1cf-49d1-b626-170fec38eb43",
   "metadata": {},
   "source": [
    "The CDF is the complement of the survival function. We saw this in the previous section."
   ]
  },
  {
   "cell_type": "code",
   "execution_count": 55,
   "id": "c8754a60-d4cc-4f02-bd4c-f104119dffa2",
   "metadata": {},
   "outputs": [
    {
     "data": {
      "text/html": [
       "<div>\n",
       "<style scoped>\n",
       "    .dataframe tbody tr th:only-of-type {\n",
       "        vertical-align: middle;\n",
       "    }\n",
       "\n",
       "    .dataframe tbody tr th {\n",
       "        vertical-align: top;\n",
       "    }\n",
       "\n",
       "    .dataframe thead th {\n",
       "        text-align: right;\n",
       "    }\n",
       "</style>\n",
       "<table border=\"1\" class=\"dataframe\">\n",
       "  <thead>\n",
       "    <tr style=\"text-align: right;\">\n",
       "      <th></th>\n",
       "      <th>adopted</th>\n",
       "      <th>at_risk</th>\n",
       "      <th>hazard</th>\n",
       "      <th>surv</th>\n",
       "      <th>cdf</th>\n",
       "    </tr>\n",
       "  </thead>\n",
       "  <tbody>\n",
       "    <tr>\n",
       "      <th>1</th>\n",
       "      <td>1</td>\n",
       "      <td>7</td>\n",
       "      <td>0.142857</td>\n",
       "      <td>0.857143</td>\n",
       "      <td>0.142857</td>\n",
       "    </tr>\n",
       "    <tr>\n",
       "      <th>2</th>\n",
       "      <td>1</td>\n",
       "      <td>6</td>\n",
       "      <td>0.166667</td>\n",
       "      <td>0.714286</td>\n",
       "      <td>0.285714</td>\n",
       "    </tr>\n",
       "    <tr>\n",
       "      <th>4</th>\n",
       "      <td>1</td>\n",
       "      <td>4</td>\n",
       "      <td>0.250000</td>\n",
       "      <td>0.535714</td>\n",
       "      <td>0.464286</td>\n",
       "    </tr>\n",
       "    <tr>\n",
       "      <th>5</th>\n",
       "      <td>1</td>\n",
       "      <td>3</td>\n",
       "      <td>0.333333</td>\n",
       "      <td>0.357143</td>\n",
       "      <td>0.642857</td>\n",
       "    </tr>\n",
       "    <tr>\n",
       "      <th>7</th>\n",
       "      <td>0</td>\n",
       "      <td>1</td>\n",
       "      <td>0.000000</td>\n",
       "      <td>0.357143</td>\n",
       "      <td>0.642857</td>\n",
       "    </tr>\n",
       "  </tbody>\n",
       "</table>\n",
       "</div>"
      ],
      "text/plain": [
       "   adopted  at_risk    hazard      surv       cdf\n",
       "1        1        7  0.142857  0.857143  0.142857\n",
       "2        1        6  0.166667  0.714286  0.285714\n",
       "4        1        4  0.250000  0.535714  0.464286\n",
       "5        1        3  0.333333  0.357143  0.642857\n",
       "7        0        1  0.000000  0.357143  0.642857"
      ]
     },
     "execution_count": 55,
     "metadata": {},
     "output_type": "execute_result"
    }
   ],
   "source": [
    "df['cdf'] = 1 - df['surv']\n",
    "df"
   ]
  },
  {
   "cell_type": "markdown",
   "id": "61d4c283-857b-4f2e-9411-c0cea6733751",
   "metadata": {},
   "source": [
    "The PMF is the difference between adjacent elements of the CDF."
   ]
  },
  {
   "cell_type": "code",
   "execution_count": 56,
   "id": "875f6e04-9ef0-4e7a-be6f-84fc43292919",
   "metadata": {},
   "outputs": [
    {
     "data": {
      "text/html": [
       "<div>\n",
       "<style scoped>\n",
       "    .dataframe tbody tr th:only-of-type {\n",
       "        vertical-align: middle;\n",
       "    }\n",
       "\n",
       "    .dataframe tbody tr th {\n",
       "        vertical-align: top;\n",
       "    }\n",
       "\n",
       "    .dataframe thead th {\n",
       "        text-align: right;\n",
       "    }\n",
       "</style>\n",
       "<table border=\"1\" class=\"dataframe\">\n",
       "  <thead>\n",
       "    <tr style=\"text-align: right;\">\n",
       "      <th></th>\n",
       "      <th>adopted</th>\n",
       "      <th>at_risk</th>\n",
       "      <th>hazard</th>\n",
       "      <th>surv</th>\n",
       "      <th>cdf</th>\n",
       "      <th>pmf</th>\n",
       "    </tr>\n",
       "  </thead>\n",
       "  <tbody>\n",
       "    <tr>\n",
       "      <th>1</th>\n",
       "      <td>1</td>\n",
       "      <td>7</td>\n",
       "      <td>0.142857</td>\n",
       "      <td>0.857143</td>\n",
       "      <td>0.142857</td>\n",
       "      <td>0.142857</td>\n",
       "    </tr>\n",
       "    <tr>\n",
       "      <th>2</th>\n",
       "      <td>1</td>\n",
       "      <td>6</td>\n",
       "      <td>0.166667</td>\n",
       "      <td>0.714286</td>\n",
       "      <td>0.285714</td>\n",
       "      <td>0.142857</td>\n",
       "    </tr>\n",
       "    <tr>\n",
       "      <th>4</th>\n",
       "      <td>1</td>\n",
       "      <td>4</td>\n",
       "      <td>0.250000</td>\n",
       "      <td>0.535714</td>\n",
       "      <td>0.464286</td>\n",
       "      <td>0.178571</td>\n",
       "    </tr>\n",
       "    <tr>\n",
       "      <th>5</th>\n",
       "      <td>1</td>\n",
       "      <td>3</td>\n",
       "      <td>0.333333</td>\n",
       "      <td>0.357143</td>\n",
       "      <td>0.642857</td>\n",
       "      <td>0.178571</td>\n",
       "    </tr>\n",
       "    <tr>\n",
       "      <th>7</th>\n",
       "      <td>0</td>\n",
       "      <td>1</td>\n",
       "      <td>0.000000</td>\n",
       "      <td>0.357143</td>\n",
       "      <td>0.642857</td>\n",
       "      <td>0.000000</td>\n",
       "    </tr>\n",
       "  </tbody>\n",
       "</table>\n",
       "</div>"
      ],
      "text/plain": [
       "   adopted  at_risk    hazard      surv       cdf       pmf\n",
       "1        1        7  0.142857  0.857143  0.142857  0.142857\n",
       "2        1        6  0.166667  0.714286  0.285714  0.142857\n",
       "4        1        4  0.250000  0.535714  0.464286  0.178571\n",
       "5        1        3  0.333333  0.357143  0.642857  0.178571\n",
       "7        0        1  0.000000  0.357143  0.642857  0.000000"
      ]
     },
     "execution_count": 56,
     "metadata": {},
     "output_type": "execute_result"
    }
   ],
   "source": [
    "df['pmf'] = np.diff(df['cdf'], prepend=0)\n",
    "df"
   ]
  },
  {
   "cell_type": "markdown",
   "id": "9f1193ac-f5d6-405f-b09e-7ae3a215ea58",
   "metadata": {},
   "source": [
    "# SECTION 4: Kaplan-Meier using lifelines\n",
    "\n",
    "## 15. Estimating Kaplan-Meier using lifelines"
   ]
  },
  {
   "cell_type": "code",
   "execution_count": 59,
   "id": "2c256857-68bf-4cd0-855d-27d18b6c649e",
   "metadata": {},
   "outputs": [],
   "source": [
    "# !pip install lifelines\n",
    "# !pip install lifelines==0.27.8"
   ]
  },
  {
   "cell_type": "markdown",
   "id": "6643704d-b719-45e4-a5e1-0f7f5cb13618",
   "metadata": {},
   "source": [
    "__Load the package and init__"
   ]
  },
  {
   "cell_type": "code",
   "execution_count": 60,
   "id": "88749bd8-d425-4deb-9e23-24388d6b0f0b",
   "metadata": {},
   "outputs": [],
   "source": [
    "from lifelines import KaplanMeierFitter\n",
    "kmf = KaplanMeierFitter()"
   ]
  },
  {
   "cell_type": "markdown",
   "id": "89caf203-57c8-463a-a52c-dc0ec3a6ac9b",
   "metadata": {},
   "source": [
    "This object takes the durations of both ongoing and complete cases and the status of each case.\n"
   ]
  },
  {
   "cell_type": "code",
   "execution_count": 61,
   "id": "d0701547-6d23-4711-8fe4-7b932e566a5e",
   "metadata": {},
   "outputs": [
    {
     "data": {
      "text/plain": [
       "0    5\n",
       "1    1\n",
       "2    4\n",
       "3    7\n",
       "4    5\n",
       "5    2\n",
       "6    2\n",
       "Name: end, dtype: int64"
      ]
     },
     "execution_count": 61,
     "metadata": {},
     "output_type": "execute_result"
    }
   ],
   "source": [
    "# Durations\n",
    "T = shifted['end']\n",
    "T"
   ]
  },
  {
   "cell_type": "code",
   "execution_count": 62,
   "id": "a30178b8-bc56-49af-8d97-cc63b8aae1c3",
   "metadata": {},
   "outputs": [
    {
     "data": {
      "text/plain": [
       "0    1\n",
       "1    1\n",
       "2    1\n",
       "3    0\n",
       "4    0\n",
       "5    1\n",
       "6    0\n",
       "Name: status, dtype: int64"
      ]
     },
     "execution_count": 62,
     "metadata": {},
     "output_type": "execute_result"
    }
   ],
   "source": [
    "# Status\n",
    "E = shifted['status']\n",
    "E"
   ]
  },
  {
   "cell_type": "markdown",
   "id": "02537481-38d7-4bc6-8ab0-be17402449e8",
   "metadata": {},
   "source": [
    "__Fit the model__"
   ]
  },
  {
   "cell_type": "code",
   "execution_count": 63,
   "id": "ecaa80fc-56fd-4731-b51e-8ccbff74f620",
   "metadata": {},
   "outputs": [
    {
     "data": {
      "text/plain": [
       "<lifelines.KaplanMeierFitter:\"KM_estimate\", fitted with 7 total observations, 3 right-censored observations>"
      ]
     },
     "execution_count": 63,
     "metadata": {},
     "output_type": "execute_result"
    }
   ],
   "source": [
    "kmf.fit(T, E)"
   ]
  },
  {
   "cell_type": "markdown",
   "id": "cc78991d-2799-4329-99c2-85d28d4f0b0d",
   "metadata": {},
   "source": [
    "__Extract the survival function__"
   ]
  },
  {
   "cell_type": "code",
   "execution_count": 64,
   "id": "e0c4ff9b-03cd-4c30-aed1-b59b845f72b3",
   "metadata": {},
   "outputs": [
    {
     "data": {
      "text/html": [
       "<div>\n",
       "<style scoped>\n",
       "    .dataframe tbody tr th:only-of-type {\n",
       "        vertical-align: middle;\n",
       "    }\n",
       "\n",
       "    .dataframe tbody tr th {\n",
       "        vertical-align: top;\n",
       "    }\n",
       "\n",
       "    .dataframe thead th {\n",
       "        text-align: right;\n",
       "    }\n",
       "</style>\n",
       "<table border=\"1\" class=\"dataframe\">\n",
       "  <thead>\n",
       "    <tr style=\"text-align: right;\">\n",
       "      <th></th>\n",
       "      <th>KM_estimate</th>\n",
       "    </tr>\n",
       "    <tr>\n",
       "      <th>timeline</th>\n",
       "      <th></th>\n",
       "    </tr>\n",
       "  </thead>\n",
       "  <tbody>\n",
       "    <tr>\n",
       "      <th>0.0</th>\n",
       "      <td>1.000000</td>\n",
       "    </tr>\n",
       "    <tr>\n",
       "      <th>1.0</th>\n",
       "      <td>0.857143</td>\n",
       "    </tr>\n",
       "    <tr>\n",
       "      <th>2.0</th>\n",
       "      <td>0.714286</td>\n",
       "    </tr>\n",
       "    <tr>\n",
       "      <th>4.0</th>\n",
       "      <td>0.535714</td>\n",
       "    </tr>\n",
       "    <tr>\n",
       "      <th>5.0</th>\n",
       "      <td>0.357143</td>\n",
       "    </tr>\n",
       "    <tr>\n",
       "      <th>7.0</th>\n",
       "      <td>0.357143</td>\n",
       "    </tr>\n",
       "  </tbody>\n",
       "</table>\n",
       "</div>"
      ],
      "text/plain": [
       "          KM_estimate\n",
       "timeline             \n",
       "0.0          1.000000\n",
       "1.0          0.857143\n",
       "2.0          0.714286\n",
       "4.0          0.535714\n",
       "5.0          0.357143\n",
       "7.0          0.357143"
      ]
     },
     "execution_count": 64,
     "metadata": {},
     "output_type": "execute_result"
    }
   ],
   "source": [
    "kmf.survival_function_"
   ]
  },
  {
   "cell_type": "markdown",
   "id": "798b0689-c666-4001-8983-feb99b264236",
   "metadata": {},
   "source": [
    "The above output is identical to what we computed manually. `lifelines` also computes a confidence interval for the survival function."
   ]
  },
  {
   "cell_type": "code",
   "execution_count": 65,
   "id": "10020937-4963-4e1e-b85b-6e19d422e5b7",
   "metadata": {},
   "outputs": [
    {
     "data": {
      "text/html": [
       "<div>\n",
       "<style scoped>\n",
       "    .dataframe tbody tr th:only-of-type {\n",
       "        vertical-align: middle;\n",
       "    }\n",
       "\n",
       "    .dataframe tbody tr th {\n",
       "        vertical-align: top;\n",
       "    }\n",
       "\n",
       "    .dataframe thead th {\n",
       "        text-align: right;\n",
       "    }\n",
       "</style>\n",
       "<table border=\"1\" class=\"dataframe\">\n",
       "  <thead>\n",
       "    <tr style=\"text-align: right;\">\n",
       "      <th></th>\n",
       "      <th>KM_estimate_lower_0.95</th>\n",
       "      <th>KM_estimate_upper_0.95</th>\n",
       "    </tr>\n",
       "  </thead>\n",
       "  <tbody>\n",
       "    <tr>\n",
       "      <th>0.0</th>\n",
       "      <td>1.000000</td>\n",
       "      <td>1.000000</td>\n",
       "    </tr>\n",
       "    <tr>\n",
       "      <th>1.0</th>\n",
       "      <td>0.334054</td>\n",
       "      <td>0.978561</td>\n",
       "    </tr>\n",
       "    <tr>\n",
       "      <th>2.0</th>\n",
       "      <td>0.258154</td>\n",
       "      <td>0.919797</td>\n",
       "    </tr>\n",
       "    <tr>\n",
       "      <th>4.0</th>\n",
       "      <td>0.131988</td>\n",
       "      <td>0.824997</td>\n",
       "    </tr>\n",
       "    <tr>\n",
       "      <th>5.0</th>\n",
       "      <td>0.051977</td>\n",
       "      <td>0.698713</td>\n",
       "    </tr>\n",
       "    <tr>\n",
       "      <th>7.0</th>\n",
       "      <td>0.051977</td>\n",
       "      <td>0.698713</td>\n",
       "    </tr>\n",
       "  </tbody>\n",
       "</table>\n",
       "</div>"
      ],
      "text/plain": [
       "     KM_estimate_lower_0.95  KM_estimate_upper_0.95\n",
       "0.0                1.000000                1.000000\n",
       "1.0                0.334054                0.978561\n",
       "2.0                0.258154                0.919797\n",
       "4.0                0.131988                0.824997\n",
       "5.0                0.051977                0.698713\n",
       "7.0                0.051977                0.698713"
      ]
     },
     "execution_count": 65,
     "metadata": {},
     "output_type": "execute_result"
    }
   ],
   "source": [
    "ci = kmf.confidence_interval_survival_function_\n",
    "ci"
   ]
  },
  {
   "cell_type": "markdown",
   "id": "abea5ed1-395c-49ec-86b2-58e1636941dd",
   "metadata": {},
   "source": [
    "__Plot survival curve__\n",
    "\n"
   ]
  },
  {
   "cell_type": "code",
   "execution_count": 66,
   "id": "c82a1990-efee-4673-a05b-f4f934e7d7ec",
   "metadata": {},
   "outputs": [
    {
     "data": {
      "image/png": "[encoded data removed]",
      "text/plain": [
       "<Figure size 640x480 with 1 Axes>"
      ]
     },
     "metadata": {},
     "output_type": "display_data"
    }
   ],
   "source": [
    "ts = ci.index\n",
    "low, high = np.transpose(ci.values)\n",
    "\n",
    "plt.fill_between(ts, low, high, color='gray', alpha=0.3)\n",
    "kmf.survival_function_.plot(ax=plt.gca())\n",
    "plt.ylabel('Survival function');"
   ]
  }
 ],
 "metadata": {
  "kernelspec": {
   "display_name": "Python 3 (ipykernel)",
   "language": "python",
   "name": "python3"
  },
  "language_info": {
   "codemirror_mode": {
    "name": "ipython",
    "version": 3
   },
   "file_extension": ".py",
   "mimetype": "text/x-python",
   "name": "python",
   "nbconvert_exporter": "python",
   "pygments_lexer": "ipython3",
   "version": "3.11.4"
  }
 },
 "nbformat": 4,
 "nbformat_minor": 5
}
